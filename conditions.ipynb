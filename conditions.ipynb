{
 "cells": [
  {
   "cell_type": "markdown",
   "metadata": {},
   "source": [
    "# Conditions\n",
    "  1. if\n",
    "  2. if else\n",
    "  3. if elif case\n",
    "  4. nested if\n",
    "  5. match case"
   ]
  },
  {
   "cell_type": "markdown",
   "metadata": {},
   "source": [
    " syntax \n",
    "....\n",
    "if condition:\n",
    "   statement"
   ]
  },
  {
   "cell_type": "code",
   "execution_count": 1,
   "metadata": {},
   "outputs": [
    {
     "name": "stdout",
     "output_type": "stream",
     "text": [
      "100 is greater than 10\n"
     ]
    }
   ],
   "source": [
    "if 100>10:\n",
    "    print('100 is greater than 10')\n"
   ]
  },
  {
   "cell_type": "code",
   "execution_count": 2,
   "metadata": {},
   "outputs": [],
   "source": [
    "if 5 > 10:\n",
    "    print('5 is greater than 10')"
   ]
  },
  {
   "cell_type": "code",
   "execution_count": 4,
   "metadata": {},
   "outputs": [
    {
     "name": "stdout",
     "output_type": "stream",
     "text": [
      "This is great\n",
      "10 is greater than 20\n"
     ]
    }
   ],
   "source": [
    "a = 10\n",
    "b = 20\n",
    "if a < b:\n",
    "    print('This is great')\n",
    "    print(f'{a} is greater than {b}')"
   ]
  },
  {
   "cell_type": "code",
   "execution_count": 8,
   "metadata": {},
   "outputs": [
    {
     "name": "stdout",
     "output_type": "stream",
     "text": [
      "This is a string\n"
     ]
    }
   ],
   "source": [
    "data = input(\"Enter a data:\")\n",
    "if data.isalpha():\n",
    "    print(\"This is a string\")\n",
    "if data.isnumeric():\n",
    "    print(\"This is a number\")\n",
    "if data.isspace():\n",
    "    print(\"This is a space\")        "
   ]
  },
  {
   "cell_type": "code",
   "execution_count": 11,
   "metadata": {},
   "outputs": [
    {
     "name": "stdout",
     "output_type": "stream",
     "text": [
      "It's cool\n"
     ]
    }
   ],
   "source": [
    "temp = -3\n",
    "if temp > 25:\n",
    "    print(\"It's hot\")\n",
    "else:\n",
    "    print(\"It's cool\")    "
   ]
  },
  {
   "cell_type": "code",
   "execution_count": 15,
   "metadata": {},
   "outputs": [
    {
     "name": "stdout",
     "output_type": "stream",
     "text": [
      "An apple a day keeps the doctor away\n"
     ]
    }
   ],
   "source": [
    "fruit = input(\"What fruit do you like?\")\n",
    "if fruit == \"Apple\":\n",
    "    print(\"An apple a day keeps the doctor away\")\n",
    "elif fruit=='Mango':\n",
    "    print('Mango is the king of the fruits')\n",
    "elif fruit=='Banana':\n",
    "    print('Banana is a good source of Potassium')\n",
    "elif fruit=='Orange':\n",
    "    print('Orange is good source of Vitamin C')\n",
    "else:\n",
    "    print('Not found in the database')            "
   ]
  },
  {
   "cell_type": "code",
   "execution_count": 16,
   "metadata": {},
   "outputs": [
    {
     "name": "stdout",
     "output_type": "stream",
     "text": [
      "Welcome Yash\n"
     ]
    }
   ],
   "source": [
    "username = input(\"Enter your username:\")\n",
    "password = input(\"Emter your password:\")\n",
    "if username == 'Yash':\n",
    "    if password == '123':\n",
    "        print(\"Welcome Yash\")\n",
    "    else:\n",
    "        print(\"Wrong Password\")    \n",
    "else:\n",
    "    print(\"Wrong Username\")       \n"
   ]
  },
  {
   "cell_type": "markdown",
   "metadata": {},
   "source": [
    "# wap to calculate the employee total salary based on following conditions-\n",
    "- if basic salary is less than 10000 then hra is 10% of basic salary and da is 90% of basic salary\n",
    "- if basic salary is greater than 10000 then hra is 20% of basic salary and da is 80% of basic salary\n",
    "- if basic salary is greater than 20000 then hra is 25% of basic salary and da is 75% of basic salary"
   ]
  },
  {
   "cell_type": "code",
   "execution_count": 1,
   "metadata": {},
   "outputs": [
    {
     "name": "stdout",
     "output_type": "stream",
     "text": [
      "40000.0, Is your HRA\n",
      "160000.0, Is your DA\n",
      "400000.0 Is your Total Salary\n"
     ]
    }
   ],
   "source": [
    "basic_salary = float(input(\"Enter your salary:\"))\n",
    "if basic_salary < 10000:\n",
    "    hra = 0.10*basic_salary\n",
    "    da = 0.90*basic_salary\n",
    "elif basic_salary > 10000:\n",
    "    hra = 0.2*basic_salary\n",
    "    da = 0.8*basic_salary\n",
    "elif basic_salary > 20000:\n",
    "    hra = 0.25*basic_salary\n",
    "    da = 0.75*basic_salary\n",
    "total_salary = hra + da + basic_salary\n",
    "print(f'{hra}, Is your HRA')\n",
    "print(f'{da}, Is your DA')\n",
    "print(total_salary, \"Is your Total Salary\")    "
   ]
  },
  {
   "cell_type": "code",
   "execution_count": null,
   "metadata": {},
   "outputs": [],
   "source": []
  }
 ],
 "metadata": {
  "kernelspec": {
   "display_name": "Python 3.9.12 ('base')",
   "language": "python",
   "name": "python3"
  },
  "language_info": {
   "codemirror_mode": {
    "name": "ipython",
    "version": 3
   },
   "file_extension": ".py",
   "mimetype": "text/x-python",
   "name": "python",
   "nbconvert_exporter": "python",
   "pygments_lexer": "ipython3",
   "version": "3.9.12"
  },
  "orig_nbformat": 4,
  "vscode": {
   "interpreter": {
    "hash": "885ae74ae6c8f10ded02f217c7ef67f5ab5deb9c2f4370f18eaf8bb449e33dec"
   }
  }
 },
 "nbformat": 4,
 "nbformat_minor": 2
}
