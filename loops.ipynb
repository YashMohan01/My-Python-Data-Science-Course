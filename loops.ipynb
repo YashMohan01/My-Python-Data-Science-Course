{
 "cells": [
  {
   "cell_type": "code",
   "execution_count": 6,
   "metadata": {},
   "outputs": [
    {
     "name": "stdout",
     "output_type": "stream",
     "text": [
      "1\n",
      "2\n",
      "3\n",
      "4\n",
      "5\n",
      "6\n",
      "7\n",
      "8\n",
      "9\n",
      "10\n",
      "11\n",
      "12\n",
      "13\n",
      "14\n",
      "15\n",
      "16\n",
      "17\n",
      "18\n",
      "19\n",
      "20\n",
      "21\n",
      "22\n",
      "23\n",
      "24\n",
      "25\n",
      "26\n",
      "27\n",
      "28\n",
      "29\n",
      "30\n",
      "31\n",
      "32\n",
      "33\n"
     ]
    }
   ],
   "source": [
    "print(1)\n",
    "print(2)\n",
    "print(3)\n",
    "print(4)\n",
    "print(5)\n",
    "print(6)\n",
    "print(7)\n",
    "print(8)\n",
    "print(9)\n",
    "print(10)\n",
    "print(11)\n",
    "print(12)\n",
    "print(13)\n",
    "print(14)\n",
    "print(15)\n",
    "print(16)\n",
    "print(17)\n",
    "print(18)\n",
    "print(19)\n",
    "print(20)\n",
    "print(21)\n",
    "print(22)\n",
    "print(23)\n",
    "print(24)\n",
    "print(25)\n",
    "print(26)\n",
    "print(27)\n",
    "print(28)\n",
    "print(29)\n",
    "print(30)\n",
    "print(31)\n",
    "print(32)\n",
    "print(33)\n"
   ]
  },
  {
   "cell_type": "markdown",
   "metadata": {},
   "source": [
    "# loops\n",
    "- 1. for\n",
    "- 2. while\n",
    "- for conditions-\n",
    " - -Iteration\n",
    " - -Traversal\n",
    " - -Number of steps are known\n",
    "- while conditions-\n",
    " - -User Input\n",
    " - -Condition based\n",
    " - -Number of steps are not known"
   ]
  },
  {
   "cell_type": "code",
   "execution_count": 7,
   "metadata": {},
   "outputs": [
    {
     "name": "stdout",
     "output_type": "stream",
     "text": [
      "0\n",
      "2\n",
      "1\n",
      "3\n",
      "6\n",
      "10\n"
     ]
    }
   ],
   "source": [
    "x = [0,2,1,3,6,10]\n",
    "for i in x:\n",
    "    print(i)"
   ]
  },
  {
   "cell_type": "code",
   "execution_count": 9,
   "metadata": {},
   "outputs": [
    {
     "name": "stdout",
     "output_type": "stream",
     "text": [
      "We got red\n",
      "We got pink\n",
      "We got purple\n"
     ]
    }
   ],
   "source": [
    "colors = ['red','pink','purple']\n",
    "for val in colors:\n",
    "    print(f'We got {val}')"
   ]
  },
  {
   "cell_type": "code",
   "execution_count": 14,
   "metadata": {},
   "outputs": [
    {
     "name": "stdout",
     "output_type": "stream",
     "text": [
      "[1, 2, 3, 4, 5, 6, 7, 8, 9, 10, 11, 12, 13, 14, 15, 16, 17, 18, 19, 20, 21, 22, 23, 24, 25, 26, 27, 28, 29, 30]\n"
     ]
    }
   ],
   "source": [
    "list_1=[1,2,3,4,5,6,7,8,9,10,11,12,13,14,15,16,17,18,19,20,21,22,23,24,25,26,27,28,29,30]\n",
    "print(list_1)"
   ]
  },
  {
   "cell_type": "code",
   "execution_count": 15,
   "metadata": {},
   "outputs": [
    {
     "name": "stdout",
     "output_type": "stream",
     "text": [
      "1\n",
      "2\n",
      "3\n",
      "4\n",
      "5\n",
      "6\n",
      "7\n",
      "8\n",
      "9\n",
      "10\n",
      "11\n",
      "12\n",
      "13\n",
      "14\n",
      "15\n",
      "16\n",
      "17\n",
      "18\n",
      "19\n",
      "20\n",
      "21\n",
      "22\n",
      "23\n",
      "24\n",
      "25\n",
      "26\n",
      "27\n",
      "28\n",
      "29\n",
      "30\n"
     ]
    }
   ],
   "source": [
    "for i in range(1,31):\n",
    "    print(i)"
   ]
  },
  {
   "cell_type": "code",
   "execution_count": 20,
   "metadata": {},
   "outputs": [
    {
     "name": "stdout",
     "output_type": "stream",
     "text": [
      "1 😂😂 2 😂😂 3 😂😂 4 😂😂 5 😂😂 6 😂😂 7 😂😂 8 😂😂 9 😂😂 10 😂😂 11 😂😂 12 😂😂 13 😂😂 14 😂😂 15 😂😂 16 😂😂 17 😂😂 18 😂😂 19 😂😂 20 😂😂 21 😂😂 22 😂😂 23 😂😂 24 😂😂 25 😂😂 26 😂😂 27 😂😂 28 😂😂 29 😂😂 30 😂😂 "
     ]
    }
   ],
   "source": [
    "for i in range(1,31):\n",
    "    print(i, end=' 😂😂 ')"
   ]
  },
  {
   "cell_type": "code",
   "execution_count": 21,
   "metadata": {},
   "outputs": [
    {
     "name": "stdout",
     "output_type": "stream",
     "text": [
      "2 x 1 = 2\n",
      "2 x 2 = 4\n",
      "2 x 3 = 6\n",
      "2 x 4 = 8\n",
      "2 x 5 = 10\n",
      "2 x 6 = 12\n",
      "2 x 7 = 14\n",
      "2 x 8 = 16\n",
      "2 x 9 = 18\n",
      "2 x 10 = 20\n"
     ]
    }
   ],
   "source": [
    "for i in range(1,11):\n",
    "    print(f'2 x {i} = {2 * i}')"
   ]
  },
  {
   "cell_type": "markdown",
   "metadata": {},
   "source": [
    "....\n",
    "range (10) | 0-9\n",
    "range(5, 10) |5-9\n",
    "range(1,10,2) | 1,3,5,7,9\n",
    "range(10, 0, -1) | 10,9,8,7,6,5,4,3,2,1\n",
    "...."
   ]
  },
  {
   "cell_type": "code",
   "execution_count": 1,
   "metadata": {},
   "outputs": [
    {
     "name": "stdout",
     "output_type": "stream",
     "text": [
      "10 9 8 7 6 5 4 3 2 1 "
     ]
    }
   ],
   "source": [
    "# reverse loop\n",
    "for i in range(10, 0, -1):\n",
    "    print(i, end=' ')"
   ]
  },
  {
   "cell_type": "code",
   "execution_count": 4,
   "metadata": {},
   "outputs": [
    {
     "name": "stdout",
     "output_type": "stream",
     "text": [
      "potato🥔\n",
      "tomato🍅\n",
      "onion🧅\n",
      "cabbage🥬\n",
      "carrot🥕\n"
     ]
    }
   ],
   "source": [
    "veg = ['potato🥔' , 'tomato🍅' , 'onion🧅' , 'cabbage🥬' , 'carrot🥕']\n",
    "for item in veg:\n",
    "    print(item)"
   ]
  },
  {
   "cell_type": "markdown",
   "metadata": {},
   "source": [
    "Enumerate"
   ]
  },
  {
   "cell_type": "code",
   "execution_count": 7,
   "metadata": {},
   "outputs": [
    {
     "name": "stdout",
     "output_type": "stream",
     "text": [
      "(0, 'potato🥔')\n",
      "(1, 'tomato🍅')\n",
      "(2, 'onion🧅')\n",
      "(3, 'cabbage🥬')\n",
      "(4, 'carrot🥕')\n"
     ]
    }
   ],
   "source": [
    "for item in enumerate(veg):\n",
    "    print(item)"
   ]
  },
  {
   "cell_type": "code",
   "execution_count": 8,
   "metadata": {},
   "outputs": [
    {
     "name": "stdout",
     "output_type": "stream",
     "text": [
      "0 got potato🥔\n",
      "1 got tomato🍅\n",
      "2 got onion🧅\n",
      "3 got cabbage🥬\n",
      "4 got carrot🥕\n"
     ]
    }
   ],
   "source": [
    "for index, value in enumerate(veg):\n",
    "    print(index, 'got', value)"
   ]
  },
  {
   "cell_type": "markdown",
   "metadata": {},
   "source": [
    "zip()"
   ]
  },
  {
   "cell_type": "code",
   "execution_count": 9,
   "metadata": {},
   "outputs": [],
   "source": [
    "veg = ['potato🥔' , 'tomato🍅' , 'onion🧅' , 'cabbage🥬' , 'carrot🥕']\n",
    "prices = [35,80,30,15,30]"
   ]
  },
  {
   "cell_type": "code",
   "execution_count": 10,
   "metadata": {},
   "outputs": [
    {
     "name": "stdout",
     "output_type": "stream",
     "text": [
      "potato🥔-------->35\n",
      "tomato🍅-------->80\n",
      "onion🧅-------->30\n",
      "cabbage🥬-------->15\n",
      "carrot🥕-------->30\n"
     ]
    }
   ],
   "source": [
    "for i in range(5):\n",
    "    print(f'{veg[i]}-------->{prices[i]}')"
   ]
  },
  {
   "cell_type": "code",
   "execution_count": 12,
   "metadata": {},
   "outputs": [
    {
     "name": "stdout",
     "output_type": "stream",
     "text": [
      "potato🥔--------->35\n",
      "tomato🍅--------->80\n",
      "onion🧅--------->30\n",
      "cabbage🥬--------->15\n",
      "carrot🥕--------->30\n"
     ]
    }
   ],
   "source": [
    "# pythonic\n",
    "for v,p in zip( veg, prices):\n",
    "    print(f'{v}--------->{p}')"
   ]
  },
  {
   "cell_type": "markdown",
   "metadata": {},
   "source": [
    "# wap to print the following lists using zip\n",
    "- list1 contains movie title\n",
    "- list2 contains movie rating \n",
    "- list3 contains movie year \n",
    "- list4 contains movie director"
   ]
  },
  {
   "cell_type": "code",
   "execution_count": 16,
   "metadata": {},
   "outputs": [
    {
     "name": "stdout",
     "output_type": "stream",
     "text": [
      "The Shawshank Redemption ------ 9.2 ------ 1994 ------ Quentin Tarantino\n",
      "Interstellar ------ 8.9 ------ 2014 ------ Christopher Nolan\n",
      "The Prestige ------ 8.3 ------ 2006 ------ Christopher Nolan\n"
     ]
    }
   ],
   "source": [
    "list1=['The Shawshank Redemption','Interstellar','The Prestige']\n",
    "list2=['9.2', '8.9', '8.3']\n",
    "list3=['1994', '2014','2006']\n",
    "list4=['Quentin Tarantino','Christopher Nolan','Christopher Nolan']\n",
    "for a,b,c,d in zip(list1,list2,list3,list4):\n",
    "    print(f'{a} ------ {b} ------ {c} ------ {d}')"
   ]
  },
  {
   "cell_type": "markdown",
   "metadata": {},
   "source": [
    "nested loop"
   ]
  },
  {
   "cell_type": "code",
   "execution_count": 17,
   "metadata": {},
   "outputs": [
    {
     "name": "stdout",
     "output_type": "stream",
     "text": [
      "0  1  2  3  4  5  6  7  8  9  \n",
      "0  1  2  3  4  5  6  7  8  9  \n",
      "0  1  2  3  4  5  6  7  8  9  \n",
      "0  1  2  3  4  5  6  7  8  9  \n",
      "0  1  2  3  4  5  6  7  8  9  \n",
      "0  1  2  3  4  5  6  7  8  9  \n",
      "0  1  2  3  4  5  6  7  8  9  \n",
      "0  1  2  3  4  5  6  7  8  9  \n",
      "0  1  2  3  4  5  6  7  8  9  \n",
      "0  1  2  3  4  5  6  7  8  9  \n"
     ]
    }
   ],
   "source": [
    "for i in range(10):\n",
    "    for i in range(10):\n",
    "        print(i, end='  ')\n",
    "    print()    "
   ]
  },
  {
   "cell_type": "markdown",
   "metadata": {},
   "source": [
    "## break and continue"
   ]
  },
  {
   "cell_type": "code",
   "execution_count": 18,
   "metadata": {},
   "outputs": [],
   "source": [
    "x = [1, 2, 0, 3, 4, 0, 0, 5]\n"
   ]
  },
  {
   "cell_type": "code",
   "execution_count": 19,
   "metadata": {},
   "outputs": [
    {
     "name": "stdout",
     "output_type": "stream",
     "text": [
      "1\n",
      "2\n"
     ]
    }
   ],
   "source": [
    "for i in x:\n",
    "    if i == 0:\n",
    "        break\n",
    "    print(i)"
   ]
  },
  {
   "cell_type": "code",
   "execution_count": 20,
   "metadata": {},
   "outputs": [
    {
     "name": "stdout",
     "output_type": "stream",
     "text": [
      "1\n",
      "2\n",
      "3\n",
      "4\n",
      "5\n"
     ]
    }
   ],
   "source": [
    "for i in x:\n",
    "    if i == 0:\n",
    "        continue\n",
    "    print(i)"
   ]
  },
  {
   "cell_type": "code",
   "execution_count": 22,
   "metadata": {},
   "outputs": [
    {
     "name": "stdout",
     "output_type": "stream",
     "text": [
      "1\n",
      "2\n",
      "3\n",
      "4\n",
      "5\n"
     ]
    }
   ],
   "source": [
    "for i in x:\n",
    "    if i != 0:\n",
    "     print(i)"
   ]
  },
  {
   "cell_type": "markdown",
   "metadata": {},
   "source": [
    "# for-else"
   ]
  },
  {
   "cell_type": "code",
   "execution_count": 24,
   "metadata": {},
   "outputs": [
    {
     "name": "stdout",
     "output_type": "stream",
     "text": [
      "prime\n"
     ]
    }
   ],
   "source": [
    "num = 11\n",
    "for i in range(2  , num):\n",
    "    if num % i == 0:\n",
    "        print('not prime')\n",
    "        break\n",
    "else:\n",
    "    print('prime')"
   ]
  },
  {
   "cell_type": "code",
   "execution_count": 27,
   "metadata": {},
   "outputs": [
    {
     "name": "stdout",
     "output_type": "stream",
     "text": [
      "2  3  5  7  11  13  17  19  23  29  31  37  41  43  47  53  59  61  67  71  73  79  83  89  97  "
     ]
    }
   ],
   "source": [
    "for num in range(1, 100):\n",
    "    if num == 1:\n",
    "        continue\n",
    "    for i in range(2 , num):\n",
    "        if num % i == 0:\n",
    "            break\n",
    "    else:\n",
    "        print(num, end='  ') "
   ]
  },
  {
   "cell_type": "code",
   "execution_count": 28,
   "metadata": {},
   "outputs": [
    {
     "name": "stdout",
     "output_type": "stream",
     "text": [
      "0\n",
      "1\n",
      "2\n"
     ]
    }
   ],
   "source": [
    "for i in range(5):\n",
    "    if i == 3:\n",
    "        break\n",
    "    print(i)\n",
    "else:\n",
    "    print('done')"
   ]
  },
  {
   "cell_type": "markdown",
   "metadata": {},
   "source": [
    "# while loop"
   ]
  },
  {
   "cell_type": "code",
   "execution_count": 34,
   "metadata": {},
   "outputs": [
    {
     "name": "stdout",
     "output_type": "stream",
     "text": [
      "8\n",
      "6\n",
      "4\n",
      "2\n",
      "0\n"
     ]
    }
   ],
   "source": [
    "x = 10\n",
    "while x > 0:\n",
    "     x -= 2\n",
    "     print(x)   "
   ]
  },
  {
   "cell_type": "code",
   "execution_count": 2,
   "metadata": {},
   "outputs": [
    {
     "name": "stdout",
     "output_type": "stream",
     "text": [
      "Total is 564\n"
     ]
    }
   ],
   "source": [
    "total = 0\n",
    "while True:\n",
    "    num = int(input('Enter a number:'))\n",
    "    if num == 0:\n",
    "        break\n",
    "    total += num\n",
    "print(f'Total is {total}')"
   ]
  },
  {
   "cell_type": "code",
   "execution_count": 2,
   "metadata": {},
   "outputs": [
    {
     "name": "stdout",
     "output_type": "stream",
     "text": [
      "These are your books\n",
      "['Quantum']\n"
     ]
    }
   ],
   "source": [
    "books=[]\n",
    "while True:\n",
    "    name = input('Enter book name:')\n",
    "    if name:\n",
    "        books.append(name)\n",
    "    else:\n",
    "        break\n",
    "print(\"These are your books\")\n",
    "print(books)"
   ]
  },
  {
   "cell_type": "markdown",
   "metadata": {},
   "source": [
    "# Fibonacci Series"
   ]
  },
  {
   "cell_type": "code",
   "execution_count": 1,
   "metadata": {},
   "outputs": [
    {
     "name": "stdout",
     "output_type": "stream",
     "text": [
      "0 1 1 2 3 5 "
     ]
    }
   ],
   "source": [
    "num = int(input(\"Enter any number:\"))\n",
    "n1, n2=0, 1\n",
    "sum = 0\n",
    "if num<=0:\n",
    "    print(\"PLease enter a number greater than 0\")\n",
    "else:\n",
    "    for i in range (0 , num):\n",
    "        print(sum, end=\" \")\n",
    "        n1 = n2\n",
    "        n2 = sum\n",
    "        sum = n1 + n2"
   ]
  },
  {
   "cell_type": "code",
   "execution_count": null,
   "metadata": {},
   "outputs": [],
   "source": []
  }
 ],
 "metadata": {
  "kernelspec": {
   "display_name": "Python 3.9.12 ('base')",
   "language": "python",
   "name": "python3"
  },
  "language_info": {
   "codemirror_mode": {
    "name": "ipython",
    "version": 3
   },
   "file_extension": ".py",
   "mimetype": "text/x-python",
   "name": "python",
   "nbconvert_exporter": "python",
   "pygments_lexer": "ipython3",
   "version": "3.9.12"
  },
  "orig_nbformat": 4,
  "vscode": {
   "interpreter": {
    "hash": "885ae74ae6c8f10ded02f217c7ef67f5ab5deb9c2f4370f18eaf8bb449e33dec"
   }
  }
 },
 "nbformat": 4,
 "nbformat_minor": 2
}
