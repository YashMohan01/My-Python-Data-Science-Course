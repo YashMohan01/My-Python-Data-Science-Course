{
 "cells": [
  {
   "cell_type": "code",
   "execution_count": 1,
   "metadata": {},
   "outputs": [],
   "source": [
    "import pandas as pd\n",
    "import matplotlib.pyplot as plt\n",
    "import numpy as np\n",
    "import plotly.express as px"
   ]
  },
  {
   "cell_type": "code",
   "execution_count": 3,
   "metadata": {},
   "outputs": [
    {
     "name": "stderr",
     "output_type": "stream",
     "text": [
      "C:\\Users\\yashm\\AppData\\Local\\Temp\\ipykernel_16304\\3464779290.py:1: DtypeWarning: Columns (1,2,3,5,6,7,8,11) have mixed types. Specify dtype option on import or set low_memory=False.\n",
      "  df = pd.read_csv('incidents_small.csv', parse_dates=['Date'])\n"
     ]
    },
    {
     "data": {
      "text/html": [
       "<div>\n",
       "<style scoped>\n",
       "    .dataframe tbody tr th:only-of-type {\n",
       "        vertical-align: middle;\n",
       "    }\n",
       "\n",
       "    .dataframe tbody tr th {\n",
       "        vertical-align: top;\n",
       "    }\n",
       "\n",
       "    .dataframe thead th {\n",
       "        text-align: right;\n",
       "    }\n",
       "</style>\n",
       "<table border=\"1\" class=\"dataframe\">\n",
       "  <thead>\n",
       "    <tr style=\"text-align: right;\">\n",
       "      <th></th>\n",
       "      <th>IncidntNum</th>\n",
       "      <th>Category</th>\n",
       "      <th>Descript</th>\n",
       "      <th>DayOfWeek</th>\n",
       "      <th>Date</th>\n",
       "      <th>Time</th>\n",
       "      <th>PdDistrict</th>\n",
       "      <th>Resolution</th>\n",
       "      <th>Address</th>\n",
       "      <th>X</th>\n",
       "      <th>Y</th>\n",
       "      <th>Location</th>\n",
       "      <th>PdId</th>\n",
       "    </tr>\n",
       "  </thead>\n",
       "  <tbody>\n",
       "    <tr>\n",
       "      <th>0</th>\n",
       "      <td>120058272.0</td>\n",
       "      <td>WEAPON LAWS</td>\n",
       "      <td>POSS OF PROHIBITED WEAPON</td>\n",
       "      <td>Friday</td>\n",
       "      <td>2016-01-29</td>\n",
       "      <td>11:00</td>\n",
       "      <td>SOUTHERN</td>\n",
       "      <td>ARREST, BOOKED</td>\n",
       "      <td>800 Block of BRYANT ST</td>\n",
       "      <td>-122.403405</td>\n",
       "      <td>37.775421</td>\n",
       "      <td>(37.775420706711, -122.403404791479)</td>\n",
       "      <td>1.200580e+13</td>\n",
       "    </tr>\n",
       "    <tr>\n",
       "      <th>1</th>\n",
       "      <td>120058272.0</td>\n",
       "      <td>WEAPON LAWS</td>\n",
       "      <td>FIREARM, LOADED, IN VEHICLE, POSSESSION OR USE</td>\n",
       "      <td>Friday</td>\n",
       "      <td>2016-01-29</td>\n",
       "      <td>11:00</td>\n",
       "      <td>SOUTHERN</td>\n",
       "      <td>ARREST, BOOKED</td>\n",
       "      <td>800 Block of BRYANT ST</td>\n",
       "      <td>-122.403405</td>\n",
       "      <td>37.775421</td>\n",
       "      <td>(37.775420706711, -122.403404791479)</td>\n",
       "      <td>1.200580e+13</td>\n",
       "    </tr>\n",
       "    <tr>\n",
       "      <th>2</th>\n",
       "      <td>141059263.0</td>\n",
       "      <td>WARRANTS</td>\n",
       "      <td>WARRANT ARREST</td>\n",
       "      <td>Monday</td>\n",
       "      <td>2016-04-25</td>\n",
       "      <td>14:59</td>\n",
       "      <td>BAYVIEW</td>\n",
       "      <td>ARREST, BOOKED</td>\n",
       "      <td>KEITH ST / SHAFTER AV</td>\n",
       "      <td>-122.388856</td>\n",
       "      <td>37.729981</td>\n",
       "      <td>(37.7299809672996, -122.388856204292)</td>\n",
       "      <td>1.410590e+13</td>\n",
       "    </tr>\n",
       "    <tr>\n",
       "      <th>3</th>\n",
       "      <td>160013662.0</td>\n",
       "      <td>NON-CRIMINAL</td>\n",
       "      <td>LOST PROPERTY</td>\n",
       "      <td>Tuesday</td>\n",
       "      <td>2016-01-05</td>\n",
       "      <td>23:50</td>\n",
       "      <td>TENDERLOIN</td>\n",
       "      <td>NONE</td>\n",
       "      <td>JONES ST / OFARRELL ST</td>\n",
       "      <td>-122.412971</td>\n",
       "      <td>37.785788</td>\n",
       "      <td>(37.7857883766888, -122.412970537591)</td>\n",
       "      <td>1.600140e+13</td>\n",
       "    </tr>\n",
       "    <tr>\n",
       "      <th>4</th>\n",
       "      <td>160002740.0</td>\n",
       "      <td>NON-CRIMINAL</td>\n",
       "      <td>LOST PROPERTY</td>\n",
       "      <td>Friday</td>\n",
       "      <td>2016-01-01</td>\n",
       "      <td>00:30</td>\n",
       "      <td>MISSION</td>\n",
       "      <td>NONE</td>\n",
       "      <td>16TH ST / MISSION ST</td>\n",
       "      <td>-122.419672</td>\n",
       "      <td>37.765050</td>\n",
       "      <td>(37.7650501214668, -122.419671780296)</td>\n",
       "      <td>1.600030e+13</td>\n",
       "    </tr>\n",
       "    <tr>\n",
       "      <th>...</th>\n",
       "      <td>...</td>\n",
       "      <td>...</td>\n",
       "      <td>...</td>\n",
       "      <td>...</td>\n",
       "      <td>...</td>\n",
       "      <td>...</td>\n",
       "      <td>...</td>\n",
       "      <td>...</td>\n",
       "      <td>...</td>\n",
       "      <td>...</td>\n",
       "      <td>...</td>\n",
       "      <td>...</td>\n",
       "      <td>...</td>\n",
       "    </tr>\n",
       "    <tr>\n",
       "      <th>150495</th>\n",
       "      <td>NaN</td>\n",
       "      <td>NaN</td>\n",
       "      <td>NaN</td>\n",
       "      <td>NaN</td>\n",
       "      <td>NaT</td>\n",
       "      <td>NaN</td>\n",
       "      <td>NaN</td>\n",
       "      <td>NaN</td>\n",
       "      <td>NaN</td>\n",
       "      <td>NaN</td>\n",
       "      <td>NaN</td>\n",
       "      <td>NaN</td>\n",
       "      <td>NaN</td>\n",
       "    </tr>\n",
       "    <tr>\n",
       "      <th>150496</th>\n",
       "      <td>NaN</td>\n",
       "      <td>NaN</td>\n",
       "      <td>NaN</td>\n",
       "      <td>NaN</td>\n",
       "      <td>NaT</td>\n",
       "      <td>NaN</td>\n",
       "      <td>NaN</td>\n",
       "      <td>NaN</td>\n",
       "      <td>NaN</td>\n",
       "      <td>NaN</td>\n",
       "      <td>NaN</td>\n",
       "      <td>NaN</td>\n",
       "      <td>NaN</td>\n",
       "    </tr>\n",
       "    <tr>\n",
       "      <th>150497</th>\n",
       "      <td>NaN</td>\n",
       "      <td>NaN</td>\n",
       "      <td>NaN</td>\n",
       "      <td>NaN</td>\n",
       "      <td>NaT</td>\n",
       "      <td>NaN</td>\n",
       "      <td>NaN</td>\n",
       "      <td>NaN</td>\n",
       "      <td>NaN</td>\n",
       "      <td>NaN</td>\n",
       "      <td>NaN</td>\n",
       "      <td>NaN</td>\n",
       "      <td>NaN</td>\n",
       "    </tr>\n",
       "    <tr>\n",
       "      <th>150498</th>\n",
       "      <td>NaN</td>\n",
       "      <td>NaN</td>\n",
       "      <td>NaN</td>\n",
       "      <td>NaN</td>\n",
       "      <td>NaT</td>\n",
       "      <td>NaN</td>\n",
       "      <td>NaN</td>\n",
       "      <td>NaN</td>\n",
       "      <td>NaN</td>\n",
       "      <td>NaN</td>\n",
       "      <td>NaN</td>\n",
       "      <td>NaN</td>\n",
       "      <td>NaN</td>\n",
       "    </tr>\n",
       "    <tr>\n",
       "      <th>150499</th>\n",
       "      <td>NaN</td>\n",
       "      <td>NaN</td>\n",
       "      <td>NaN</td>\n",
       "      <td>NaN</td>\n",
       "      <td>NaT</td>\n",
       "      <td>NaN</td>\n",
       "      <td>NaN</td>\n",
       "      <td>NaN</td>\n",
       "      <td>NaN</td>\n",
       "      <td>NaN</td>\n",
       "      <td>NaN</td>\n",
       "      <td>NaN</td>\n",
       "      <td>NaN</td>\n",
       "    </tr>\n",
       "  </tbody>\n",
       "</table>\n",
       "<p>150500 rows × 13 columns</p>\n",
       "</div>"
      ],
      "text/plain": [
       "         IncidntNum      Category  \\\n",
       "0       120058272.0   WEAPON LAWS   \n",
       "1       120058272.0   WEAPON LAWS   \n",
       "2       141059263.0      WARRANTS   \n",
       "3       160013662.0  NON-CRIMINAL   \n",
       "4       160002740.0  NON-CRIMINAL   \n",
       "...             ...           ...   \n",
       "150495          NaN           NaN   \n",
       "150496          NaN           NaN   \n",
       "150497          NaN           NaN   \n",
       "150498          NaN           NaN   \n",
       "150499          NaN           NaN   \n",
       "\n",
       "                                              Descript DayOfWeek       Date  \\\n",
       "0                            POSS OF PROHIBITED WEAPON    Friday 2016-01-29   \n",
       "1       FIREARM, LOADED, IN VEHICLE, POSSESSION OR USE    Friday 2016-01-29   \n",
       "2                                       WARRANT ARREST    Monday 2016-04-25   \n",
       "3                                        LOST PROPERTY   Tuesday 2016-01-05   \n",
       "4                                        LOST PROPERTY    Friday 2016-01-01   \n",
       "...                                                ...       ...        ...   \n",
       "150495                                             NaN       NaN        NaT   \n",
       "150496                                             NaN       NaN        NaT   \n",
       "150497                                             NaN       NaN        NaT   \n",
       "150498                                             NaN       NaN        NaT   \n",
       "150499                                             NaN       NaN        NaT   \n",
       "\n",
       "         Time  PdDistrict      Resolution                 Address           X  \\\n",
       "0       11:00    SOUTHERN  ARREST, BOOKED  800 Block of BRYANT ST -122.403405   \n",
       "1       11:00    SOUTHERN  ARREST, BOOKED  800 Block of BRYANT ST -122.403405   \n",
       "2       14:59     BAYVIEW  ARREST, BOOKED   KEITH ST / SHAFTER AV -122.388856   \n",
       "3       23:50  TENDERLOIN            NONE  JONES ST / OFARRELL ST -122.412971   \n",
       "4       00:30     MISSION            NONE    16TH ST / MISSION ST -122.419672   \n",
       "...       ...         ...             ...                     ...         ...   \n",
       "150495    NaN         NaN             NaN                     NaN         NaN   \n",
       "150496    NaN         NaN             NaN                     NaN         NaN   \n",
       "150497    NaN         NaN             NaN                     NaN         NaN   \n",
       "150498    NaN         NaN             NaN                     NaN         NaN   \n",
       "150499    NaN         NaN             NaN                     NaN         NaN   \n",
       "\n",
       "                Y                               Location          PdId  \n",
       "0       37.775421   (37.775420706711, -122.403404791479)  1.200580e+13  \n",
       "1       37.775421   (37.775420706711, -122.403404791479)  1.200580e+13  \n",
       "2       37.729981  (37.7299809672996, -122.388856204292)  1.410590e+13  \n",
       "3       37.785788  (37.7857883766888, -122.412970537591)  1.600140e+13  \n",
       "4       37.765050  (37.7650501214668, -122.419671780296)  1.600030e+13  \n",
       "...           ...                                    ...           ...  \n",
       "150495        NaN                                    NaN           NaN  \n",
       "150496        NaN                                    NaN           NaN  \n",
       "150497        NaN                                    NaN           NaN  \n",
       "150498        NaN                                    NaN           NaN  \n",
       "150499        NaN                                    NaN           NaN  \n",
       "\n",
       "[150500 rows x 13 columns]"
      ]
     },
     "execution_count": 3,
     "metadata": {},
     "output_type": "execute_result"
    }
   ],
   "source": [
    "df = pd.read_csv('incidents_small.csv', parse_dates=['Date'])\n",
    "df"
   ]
  },
  {
   "cell_type": "code",
   "execution_count": 4,
   "metadata": {},
   "outputs": [
    {
     "name": "stdout",
     "output_type": "stream",
     "text": [
      "<class 'pandas.core.frame.DataFrame'>\n",
      "RangeIndex: 150500 entries, 0 to 150499\n",
      "Data columns (total 13 columns):\n",
      " #   Column      Non-Null Count  Dtype         \n",
      "---  ------      --------------  -----         \n",
      " 0   IncidntNum  10019 non-null  float64       \n",
      " 1   Category    10019 non-null  object        \n",
      " 2   Descript    10019 non-null  object        \n",
      " 3   DayOfWeek   10019 non-null  object        \n",
      " 4   Date        10019 non-null  datetime64[ns]\n",
      " 5   Time        10019 non-null  object        \n",
      " 6   PdDistrict  10019 non-null  object        \n",
      " 7   Resolution  10019 non-null  object        \n",
      " 8   Address     10019 non-null  object        \n",
      " 9   X           10019 non-null  float64       \n",
      " 10  Y           10019 non-null  float64       \n",
      " 11  Location    10019 non-null  object        \n",
      " 12  PdId        10019 non-null  float64       \n",
      "dtypes: datetime64[ns](1), float64(4), object(8)\n",
      "memory usage: 14.9+ MB\n"
     ]
    }
   ],
   "source": [
    "df.info()"
   ]
  },
  {
   "cell_type": "code",
   "execution_count": 7,
   "metadata": {},
   "outputs": [
    {
     "data": {
      "text/plain": [
       "(10019, 13)"
      ]
     },
     "execution_count": 7,
     "metadata": {},
     "output_type": "execute_result"
    }
   ],
   "source": [
    "df.dropna(inplace=True)\n",
    "df.shape"
   ]
  },
  {
   "cell_type": "code",
   "execution_count": 9,
   "metadata": {},
   "outputs": [
    {
     "data": {
      "text/html": [
       "<div>\n",
       "<style scoped>\n",
       "    .dataframe tbody tr th:only-of-type {\n",
       "        vertical-align: middle;\n",
       "    }\n",
       "\n",
       "    .dataframe tbody tr th {\n",
       "        vertical-align: top;\n",
       "    }\n",
       "\n",
       "    .dataframe thead th {\n",
       "        text-align: right;\n",
       "    }\n",
       "</style>\n",
       "<table border=\"1\" class=\"dataframe\">\n",
       "  <thead>\n",
       "    <tr style=\"text-align: right;\">\n",
       "      <th></th>\n",
       "      <th>IncidntNum</th>\n",
       "      <th>Category</th>\n",
       "      <th>Descript</th>\n",
       "      <th>DayOfWeek</th>\n",
       "      <th>Date</th>\n",
       "      <th>Time</th>\n",
       "      <th>PdDistrict</th>\n",
       "      <th>Resolution</th>\n",
       "      <th>Address</th>\n",
       "      <th>X</th>\n",
       "      <th>Y</th>\n",
       "      <th>Location</th>\n",
       "      <th>PdId</th>\n",
       "    </tr>\n",
       "  </thead>\n",
       "  <tbody>\n",
       "    <tr>\n",
       "      <th>7267</th>\n",
       "      <td>160257967.0</td>\n",
       "      <td>ARSON</td>\n",
       "      <td>ARSON OF AN INHABITED DWELLING</td>\n",
       "      <td>Monday</td>\n",
       "      <td>2016-03-28</td>\n",
       "      <td>23:00</td>\n",
       "      <td>TENDERLOIN</td>\n",
       "      <td>ARREST, BOOKED</td>\n",
       "      <td>0 Block of TURK ST</td>\n",
       "      <td>-122.409854</td>\n",
       "      <td>37.783386</td>\n",
       "      <td>(37.7833862379382, -122.409853729941)</td>\n",
       "      <td>1.602580e+13</td>\n",
       "    </tr>\n",
       "    <tr>\n",
       "      <th>8808</th>\n",
       "      <td>160281712.0</td>\n",
       "      <td>ARSON</td>\n",
       "      <td>ARSON OF AN INHABITED DWELLING</td>\n",
       "      <td>Thursday</td>\n",
       "      <td>2016-03-17</td>\n",
       "      <td>16:06</td>\n",
       "      <td>TARAVAL</td>\n",
       "      <td>ARREST, BOOKED</td>\n",
       "      <td>4700 Block of IRVING ST</td>\n",
       "      <td>-122.508740</td>\n",
       "      <td>37.762111</td>\n",
       "      <td>(37.7621113223499, -122.508740241518)</td>\n",
       "      <td>1.602820e+13</td>\n",
       "    </tr>\n",
       "    <tr>\n",
       "      <th>548</th>\n",
       "      <td>160042542.0</td>\n",
       "      <td>ARSON</td>\n",
       "      <td>ARSON OF A VEHICLE</td>\n",
       "      <td>Friday</td>\n",
       "      <td>2016-01-15</td>\n",
       "      <td>20:20</td>\n",
       "      <td>INGLESIDE</td>\n",
       "      <td>NONE</td>\n",
       "      <td>100 Block of HOLLADAY AV</td>\n",
       "      <td>-122.404869</td>\n",
       "      <td>37.747907</td>\n",
       "      <td>(37.7479073004814, -122.404869009565)</td>\n",
       "      <td>1.600430e+13</td>\n",
       "    </tr>\n",
       "    <tr>\n",
       "      <th>8851</th>\n",
       "      <td>160140889.0</td>\n",
       "      <td>ARSON</td>\n",
       "      <td>ARSON OF A VEHICLE</td>\n",
       "      <td>Wednesday</td>\n",
       "      <td>2016-02-17</td>\n",
       "      <td>03:15</td>\n",
       "      <td>TARAVAL</td>\n",
       "      <td>NONE</td>\n",
       "      <td>200 Block of THRIFT ST</td>\n",
       "      <td>-122.461468</td>\n",
       "      <td>37.717487</td>\n",
       "      <td>(37.7174871282718, -122.461467578211)</td>\n",
       "      <td>1.601410e+13</td>\n",
       "    </tr>\n",
       "    <tr>\n",
       "      <th>7078</th>\n",
       "      <td>160229148.0</td>\n",
       "      <td>ARSON</td>\n",
       "      <td>ARSON OF A VEHICLE</td>\n",
       "      <td>Friday</td>\n",
       "      <td>2016-03-18</td>\n",
       "      <td>23:39</td>\n",
       "      <td>BAYVIEW</td>\n",
       "      <td>NONE</td>\n",
       "      <td>NEWCOMB AV / LASALLE AV</td>\n",
       "      <td>-122.385002</td>\n",
       "      <td>37.733071</td>\n",
       "      <td>(37.7330708173682, -122.385001533619)</td>\n",
       "      <td>1.602290e+13</td>\n",
       "    </tr>\n",
       "    <tr>\n",
       "      <th>45</th>\n",
       "      <td>160010527.0</td>\n",
       "      <td>ARSON</td>\n",
       "      <td>ARSON OF A COMMERCIAL BUILDING</td>\n",
       "      <td>Monday</td>\n",
       "      <td>2016-01-04</td>\n",
       "      <td>20:08</td>\n",
       "      <td>MISSION</td>\n",
       "      <td>NONE</td>\n",
       "      <td>1500 Block of BRYANT ST</td>\n",
       "      <td>-122.410738</td>\n",
       "      <td>37.767524</td>\n",
       "      <td>(37.767524308783, -122.410738097315)</td>\n",
       "      <td>1.600110e+13</td>\n",
       "    </tr>\n",
       "    <tr>\n",
       "      <th>722</th>\n",
       "      <td>160352614.0</td>\n",
       "      <td>ARSON</td>\n",
       "      <td>ARSON OF A VEHICLE</td>\n",
       "      <td>Saturday</td>\n",
       "      <td>2016-04-30</td>\n",
       "      <td>03:15</td>\n",
       "      <td>BAYVIEW</td>\n",
       "      <td>NONE</td>\n",
       "      <td>200 Block of BAY SHORE BL</td>\n",
       "      <td>-122.404304</td>\n",
       "      <td>37.744218</td>\n",
       "      <td>(37.7442180802683, -122.404304136216)</td>\n",
       "      <td>1.603530e+13</td>\n",
       "    </tr>\n",
       "    <tr>\n",
       "      <th>723</th>\n",
       "      <td>160352614.0</td>\n",
       "      <td>ARSON</td>\n",
       "      <td>ARSON OF A COMMERCIAL BUILDING</td>\n",
       "      <td>Saturday</td>\n",
       "      <td>2016-04-30</td>\n",
       "      <td>03:15</td>\n",
       "      <td>BAYVIEW</td>\n",
       "      <td>NONE</td>\n",
       "      <td>200 Block of BAY SHORE BL</td>\n",
       "      <td>-122.404304</td>\n",
       "      <td>37.744218</td>\n",
       "      <td>(37.7442180802683, -122.404304136216)</td>\n",
       "      <td>1.603530e+13</td>\n",
       "    </tr>\n",
       "    <tr>\n",
       "      <th>6369</th>\n",
       "      <td>160111119.0</td>\n",
       "      <td>ARSON</td>\n",
       "      <td>ARSON OF A VEHICLE</td>\n",
       "      <td>Sunday</td>\n",
       "      <td>2016-02-07</td>\n",
       "      <td>01:47</td>\n",
       "      <td>NORTHERN</td>\n",
       "      <td>NONE</td>\n",
       "      <td>POLK ST / FERN ST</td>\n",
       "      <td>-122.420212</td>\n",
       "      <td>37.788223</td>\n",
       "      <td>(37.7882225424263, -122.420211964949)</td>\n",
       "      <td>1.601110e+13</td>\n",
       "    </tr>\n",
       "    <tr>\n",
       "      <th>4795</th>\n",
       "      <td>160209106.0</td>\n",
       "      <td>ARSON</td>\n",
       "      <td>ARSON OF A VEHICLE</td>\n",
       "      <td>Friday</td>\n",
       "      <td>2016-03-11</td>\n",
       "      <td>23:46</td>\n",
       "      <td>INGLESIDE</td>\n",
       "      <td>NONE</td>\n",
       "      <td>100 Block of BLYTHDALE AV</td>\n",
       "      <td>-122.420530</td>\n",
       "      <td>37.711002</td>\n",
       "      <td>(37.7110023300609, -122.420529801066)</td>\n",
       "      <td>1.602090e+13</td>\n",
       "    </tr>\n",
       "    <tr>\n",
       "      <th>4067</th>\n",
       "      <td>160192921.0</td>\n",
       "      <td>ARSON</td>\n",
       "      <td>ARSON</td>\n",
       "      <td>Sunday</td>\n",
       "      <td>2016-03-06</td>\n",
       "      <td>08:20</td>\n",
       "      <td>SOUTHERN</td>\n",
       "      <td>ARREST, BOOKED</td>\n",
       "      <td>600 Block of MISSION ST</td>\n",
       "      <td>-122.400219</td>\n",
       "      <td>37.787752</td>\n",
       "      <td>(37.7877523788601, -122.400218868349)</td>\n",
       "      <td>1.601930e+13</td>\n",
       "    </tr>\n",
       "    <tr>\n",
       "      <th>7279</th>\n",
       "      <td>160122401.0</td>\n",
       "      <td>ARSON</td>\n",
       "      <td>ARSON OF A VEHICLE</td>\n",
       "      <td>Wednesday</td>\n",
       "      <td>2016-02-10</td>\n",
       "      <td>16:25</td>\n",
       "      <td>BAYVIEW</td>\n",
       "      <td>EXCEPTIONAL CLEARANCE</td>\n",
       "      <td>2500 Block of MARIN ST</td>\n",
       "      <td>-122.402767</td>\n",
       "      <td>37.748220</td>\n",
       "      <td>(37.7482203413295, -122.402767417355)</td>\n",
       "      <td>1.601220e+13</td>\n",
       "    </tr>\n",
       "    <tr>\n",
       "      <th>9653</th>\n",
       "      <td>160294163.0</td>\n",
       "      <td>ARSON</td>\n",
       "      <td>ARSON OF A COMMERCIAL BUILDING</td>\n",
       "      <td>Sunday</td>\n",
       "      <td>2016-04-10</td>\n",
       "      <td>04:15</td>\n",
       "      <td>TENDERLOIN</td>\n",
       "      <td>ARREST, BOOKED</td>\n",
       "      <td>200 Block of POWELL ST</td>\n",
       "      <td>-122.408065</td>\n",
       "      <td>37.786902</td>\n",
       "      <td>(37.7869021819676, -122.408064958219)</td>\n",
       "      <td>1.602940e+13</td>\n",
       "    </tr>\n",
       "    <tr>\n",
       "      <th>7749</th>\n",
       "      <td>160264473.0</td>\n",
       "      <td>ARSON</td>\n",
       "      <td>ARSON OF A VEHICLE</td>\n",
       "      <td>Thursday</td>\n",
       "      <td>2016-03-31</td>\n",
       "      <td>05:24</td>\n",
       "      <td>PARK</td>\n",
       "      <td>NONE</td>\n",
       "      <td>200 Block of PARNASSUS AV</td>\n",
       "      <td>-122.453068</td>\n",
       "      <td>37.764505</td>\n",
       "      <td>(37.7645048381303, -122.453068348596)</td>\n",
       "      <td>1.602640e+13</td>\n",
       "    </tr>\n",
       "    <tr>\n",
       "      <th>5774</th>\n",
       "      <td>160229104.0</td>\n",
       "      <td>ARSON</td>\n",
       "      <td>ARSON OF AN INHABITED DWELLING</td>\n",
       "      <td>Friday</td>\n",
       "      <td>2016-03-18</td>\n",
       "      <td>23:00</td>\n",
       "      <td>CENTRAL</td>\n",
       "      <td>NONE</td>\n",
       "      <td>0 Block of HIMMELMANN PL</td>\n",
       "      <td>-122.412964</td>\n",
       "      <td>37.796638</td>\n",
       "      <td>(37.7966383353382, -122.412963458482)</td>\n",
       "      <td>1.602290e+13</td>\n",
       "    </tr>\n",
       "    <tr>\n",
       "      <th>7748</th>\n",
       "      <td>160264473.0</td>\n",
       "      <td>ARSON</td>\n",
       "      <td>ARSON</td>\n",
       "      <td>Thursday</td>\n",
       "      <td>2016-03-31</td>\n",
       "      <td>05:24</td>\n",
       "      <td>PARK</td>\n",
       "      <td>NONE</td>\n",
       "      <td>200 Block of PARNASSUS AV</td>\n",
       "      <td>-122.453068</td>\n",
       "      <td>37.764505</td>\n",
       "      <td>(37.7645048381303, -122.453068348596)</td>\n",
       "      <td>1.602640e+13</td>\n",
       "    </tr>\n",
       "    <tr>\n",
       "      <th>4313</th>\n",
       "      <td>160570781.0</td>\n",
       "      <td>ARSON</td>\n",
       "      <td>ARSON</td>\n",
       "      <td>Friday</td>\n",
       "      <td>2016-07-15</td>\n",
       "      <td>05:19</td>\n",
       "      <td>CENTRAL</td>\n",
       "      <td>NONE</td>\n",
       "      <td>GRANT AV / POST ST</td>\n",
       "      <td>-122.405223</td>\n",
       "      <td>37.788694</td>\n",
       "      <td>(37.7886936920129, -122.405222821755)</td>\n",
       "      <td>1.605710e+13</td>\n",
       "    </tr>\n",
       "    <tr>\n",
       "      <th>3455</th>\n",
       "      <td>160173131.0</td>\n",
       "      <td>ARSON</td>\n",
       "      <td>ARSON OF A VEHICLE</td>\n",
       "      <td>Sunday</td>\n",
       "      <td>2016-02-28</td>\n",
       "      <td>01:00</td>\n",
       "      <td>BAYVIEW</td>\n",
       "      <td>NONE</td>\n",
       "      <td>600 Block of KEITH ST</td>\n",
       "      <td>-122.382779</td>\n",
       "      <td>37.737198</td>\n",
       "      <td>(37.7371978950809, -122.382779253988)</td>\n",
       "      <td>1.601730e+13</td>\n",
       "    </tr>\n",
       "    <tr>\n",
       "      <th>6514</th>\n",
       "      <td>160245564.0</td>\n",
       "      <td>ARSON</td>\n",
       "      <td>ARSON OF AN INHABITED DWELLING</td>\n",
       "      <td>Thursday</td>\n",
       "      <td>2016-03-24</td>\n",
       "      <td>15:21</td>\n",
       "      <td>CENTRAL</td>\n",
       "      <td>NONE</td>\n",
       "      <td>1200 Block of PINE ST</td>\n",
       "      <td>-122.416387</td>\n",
       "      <td>37.790093</td>\n",
       "      <td>(37.7900934803531, -122.416386784625)</td>\n",
       "      <td>1.602460e+13</td>\n",
       "    </tr>\n",
       "    <tr>\n",
       "      <th>2457</th>\n",
       "      <td>160135288.0</td>\n",
       "      <td>ARSON</td>\n",
       "      <td>ARSON OF A VEHICLE</td>\n",
       "      <td>Monday</td>\n",
       "      <td>2016-02-15</td>\n",
       "      <td>11:35</td>\n",
       "      <td>SOUTHERN</td>\n",
       "      <td>NONE</td>\n",
       "      <td>200 Block of INTERSTATE80 HY</td>\n",
       "      <td>-122.365565</td>\n",
       "      <td>37.809671</td>\n",
       "      <td>(37.8096707013239, -122.365565425353)</td>\n",
       "      <td>1.601350e+13</td>\n",
       "    </tr>\n",
       "    <tr>\n",
       "      <th>6296</th>\n",
       "      <td>160672042.0</td>\n",
       "      <td>ARSON</td>\n",
       "      <td>ARSON</td>\n",
       "      <td>Friday</td>\n",
       "      <td>2016-08-19</td>\n",
       "      <td>20:50</td>\n",
       "      <td>SOUTHERN</td>\n",
       "      <td>NONE</td>\n",
       "      <td>0 Block of TEHAMA ST</td>\n",
       "      <td>-122.396478</td>\n",
       "      <td>37.787382</td>\n",
       "      <td>(37.7873819795737, -122.39647798117)</td>\n",
       "      <td>1.606720e+13</td>\n",
       "    </tr>\n",
       "    <tr>\n",
       "      <th>8195</th>\n",
       "      <td>160270903.0</td>\n",
       "      <td>ARSON</td>\n",
       "      <td>ARSON OF AN INHABITED DWELLING</td>\n",
       "      <td>Saturday</td>\n",
       "      <td>2016-04-02</td>\n",
       "      <td>07:57</td>\n",
       "      <td>MISSION</td>\n",
       "      <td>ARREST, BOOKED</td>\n",
       "      <td>3100 Block of 16TH ST</td>\n",
       "      <td>-122.423622</td>\n",
       "      <td>37.764757</td>\n",
       "      <td>(37.7647573853335, -122.423622537404)</td>\n",
       "      <td>1.602710e+13</td>\n",
       "    </tr>\n",
       "    <tr>\n",
       "      <th>5467</th>\n",
       "      <td>160223560.0</td>\n",
       "      <td>ARSON</td>\n",
       "      <td>ARSON OF AN INHABITED DWELLING</td>\n",
       "      <td>Thursday</td>\n",
       "      <td>2016-03-17</td>\n",
       "      <td>08:59</td>\n",
       "      <td>SOUTHERN</td>\n",
       "      <td>JUVENILE BOOKED</td>\n",
       "      <td>800 Block of BRYANT ST</td>\n",
       "      <td>-122.403405</td>\n",
       "      <td>37.775421</td>\n",
       "      <td>(37.775420706711, -122.403404791479)</td>\n",
       "      <td>1.602240e+13</td>\n",
       "    </tr>\n",
       "    <tr>\n",
       "      <th>296</th>\n",
       "      <td>160028081.0</td>\n",
       "      <td>ARSON</td>\n",
       "      <td>ARSON</td>\n",
       "      <td>Monday</td>\n",
       "      <td>2016-01-11</td>\n",
       "      <td>09:33</td>\n",
       "      <td>TENDERLOIN</td>\n",
       "      <td>NONE</td>\n",
       "      <td>0 Block of TURK ST</td>\n",
       "      <td>-122.409849</td>\n",
       "      <td>37.783276</td>\n",
       "      <td>(37.7832755202567, -122.409849441655)</td>\n",
       "      <td>1.600280e+13</td>\n",
       "    </tr>\n",
       "    <tr>\n",
       "      <th>294</th>\n",
       "      <td>160027801.0</td>\n",
       "      <td>ARSON</td>\n",
       "      <td>ARSON OF A VEHICLE</td>\n",
       "      <td>Sunday</td>\n",
       "      <td>2016-01-10</td>\n",
       "      <td>19:15</td>\n",
       "      <td>PARK</td>\n",
       "      <td>NONE</td>\n",
       "      <td>600 Block of HAIGHT ST</td>\n",
       "      <td>-122.432940</td>\n",
       "      <td>37.771845</td>\n",
       "      <td>(37.7718450016424, -122.43294024481)</td>\n",
       "      <td>1.600280e+13</td>\n",
       "    </tr>\n",
       "    <tr>\n",
       "      <th>5148</th>\n",
       "      <td>160623584.0</td>\n",
       "      <td>ARSON</td>\n",
       "      <td>ARSON</td>\n",
       "      <td>Tuesday</td>\n",
       "      <td>2016-08-02</td>\n",
       "      <td>17:43</td>\n",
       "      <td>SOUTHERN</td>\n",
       "      <td>NONE</td>\n",
       "      <td>100 Block of HAWTHORNE ST</td>\n",
       "      <td>-122.397071</td>\n",
       "      <td>37.784003</td>\n",
       "      <td>(37.7840030154412, -122.397071005597)</td>\n",
       "      <td>1.606240e+13</td>\n",
       "    </tr>\n",
       "    <tr>\n",
       "      <th>5479</th>\n",
       "      <td>160098545.0</td>\n",
       "      <td>ARSON</td>\n",
       "      <td>ATTEMPTED ARSON</td>\n",
       "      <td>Wednesday</td>\n",
       "      <td>2016-02-03</td>\n",
       "      <td>05:45</td>\n",
       "      <td>MISSION</td>\n",
       "      <td>NONE</td>\n",
       "      <td>2300 Block of MARKET ST</td>\n",
       "      <td>-122.434229</td>\n",
       "      <td>37.763485</td>\n",
       "      <td>(37.7634850137846, -122.434229003953)</td>\n",
       "      <td>1.600990e+13</td>\n",
       "    </tr>\n",
       "    <tr>\n",
       "      <th>9245</th>\n",
       "      <td>160248223.0</td>\n",
       "      <td>ARSON</td>\n",
       "      <td>ARSON</td>\n",
       "      <td>Friday</td>\n",
       "      <td>2016-03-25</td>\n",
       "      <td>15:48</td>\n",
       "      <td>MISSION</td>\n",
       "      <td>ARREST, BOOKED</td>\n",
       "      <td>16TH ST / VALENCIA ST</td>\n",
       "      <td>-122.421886</td>\n",
       "      <td>37.764918</td>\n",
       "      <td>(37.7649178909424, -122.421886357981)</td>\n",
       "      <td>1.602480e+13</td>\n",
       "    </tr>\n",
       "    <tr>\n",
       "      <th>2663</th>\n",
       "      <td>160528940.0</td>\n",
       "      <td>ASSAULT</td>\n",
       "      <td>BATTERY, FORMER SPOUSE OR DATING RELATIONSHIP</td>\n",
       "      <td>Saturday</td>\n",
       "      <td>2016-06-25</td>\n",
       "      <td>11:00</td>\n",
       "      <td>SOUTHERN</td>\n",
       "      <td>NONE</td>\n",
       "      <td>100 Block of 6TH ST</td>\n",
       "      <td>-122.407474</td>\n",
       "      <td>37.779912</td>\n",
       "      <td>(37.779911669335, -122.407474439624)</td>\n",
       "      <td>1.605290e+13</td>\n",
       "    </tr>\n",
       "    <tr>\n",
       "      <th>3229</th>\n",
       "      <td>160553044.0</td>\n",
       "      <td>ASSAULT</td>\n",
       "      <td>BATTERY</td>\n",
       "      <td>Wednesday</td>\n",
       "      <td>2016-06-15</td>\n",
       "      <td>09:00</td>\n",
       "      <td>PARK</td>\n",
       "      <td>NONE</td>\n",
       "      <td>0 Block of CASTRO ST</td>\n",
       "      <td>-122.435637</td>\n",
       "      <td>37.768169</td>\n",
       "      <td>(37.7681694346175, -122.435637436721)</td>\n",
       "      <td>1.605530e+13</td>\n",
       "    </tr>\n",
       "  </tbody>\n",
       "</table>\n",
       "</div>"
      ],
      "text/plain": [
       "       IncidntNum Category                                       Descript  \\\n",
       "7267  160257967.0    ARSON                 ARSON OF AN INHABITED DWELLING   \n",
       "8808  160281712.0    ARSON                 ARSON OF AN INHABITED DWELLING   \n",
       "548   160042542.0    ARSON                             ARSON OF A VEHICLE   \n",
       "8851  160140889.0    ARSON                             ARSON OF A VEHICLE   \n",
       "7078  160229148.0    ARSON                             ARSON OF A VEHICLE   \n",
       "45    160010527.0    ARSON                 ARSON OF A COMMERCIAL BUILDING   \n",
       "722   160352614.0    ARSON                             ARSON OF A VEHICLE   \n",
       "723   160352614.0    ARSON                 ARSON OF A COMMERCIAL BUILDING   \n",
       "6369  160111119.0    ARSON                             ARSON OF A VEHICLE   \n",
       "4795  160209106.0    ARSON                             ARSON OF A VEHICLE   \n",
       "4067  160192921.0    ARSON                                          ARSON   \n",
       "7279  160122401.0    ARSON                             ARSON OF A VEHICLE   \n",
       "9653  160294163.0    ARSON                 ARSON OF A COMMERCIAL BUILDING   \n",
       "7749  160264473.0    ARSON                             ARSON OF A VEHICLE   \n",
       "5774  160229104.0    ARSON                 ARSON OF AN INHABITED DWELLING   \n",
       "7748  160264473.0    ARSON                                          ARSON   \n",
       "4313  160570781.0    ARSON                                          ARSON   \n",
       "3455  160173131.0    ARSON                             ARSON OF A VEHICLE   \n",
       "6514  160245564.0    ARSON                 ARSON OF AN INHABITED DWELLING   \n",
       "2457  160135288.0    ARSON                             ARSON OF A VEHICLE   \n",
       "6296  160672042.0    ARSON                                          ARSON   \n",
       "8195  160270903.0    ARSON                 ARSON OF AN INHABITED DWELLING   \n",
       "5467  160223560.0    ARSON                 ARSON OF AN INHABITED DWELLING   \n",
       "296   160028081.0    ARSON                                          ARSON   \n",
       "294   160027801.0    ARSON                             ARSON OF A VEHICLE   \n",
       "5148  160623584.0    ARSON                                          ARSON   \n",
       "5479  160098545.0    ARSON                                ATTEMPTED ARSON   \n",
       "9245  160248223.0    ARSON                                          ARSON   \n",
       "2663  160528940.0  ASSAULT  BATTERY, FORMER SPOUSE OR DATING RELATIONSHIP   \n",
       "3229  160553044.0  ASSAULT                                        BATTERY   \n",
       "\n",
       "      DayOfWeek       Date   Time  PdDistrict             Resolution  \\\n",
       "7267     Monday 2016-03-28  23:00  TENDERLOIN         ARREST, BOOKED   \n",
       "8808   Thursday 2016-03-17  16:06     TARAVAL         ARREST, BOOKED   \n",
       "548      Friday 2016-01-15  20:20   INGLESIDE                   NONE   \n",
       "8851  Wednesday 2016-02-17  03:15     TARAVAL                   NONE   \n",
       "7078     Friday 2016-03-18  23:39     BAYVIEW                   NONE   \n",
       "45       Monday 2016-01-04  20:08     MISSION                   NONE   \n",
       "722    Saturday 2016-04-30  03:15     BAYVIEW                   NONE   \n",
       "723    Saturday 2016-04-30  03:15     BAYVIEW                   NONE   \n",
       "6369     Sunday 2016-02-07  01:47    NORTHERN                   NONE   \n",
       "4795     Friday 2016-03-11  23:46   INGLESIDE                   NONE   \n",
       "4067     Sunday 2016-03-06  08:20    SOUTHERN         ARREST, BOOKED   \n",
       "7279  Wednesday 2016-02-10  16:25     BAYVIEW  EXCEPTIONAL CLEARANCE   \n",
       "9653     Sunday 2016-04-10  04:15  TENDERLOIN         ARREST, BOOKED   \n",
       "7749   Thursday 2016-03-31  05:24        PARK                   NONE   \n",
       "5774     Friday 2016-03-18  23:00     CENTRAL                   NONE   \n",
       "7748   Thursday 2016-03-31  05:24        PARK                   NONE   \n",
       "4313     Friday 2016-07-15  05:19     CENTRAL                   NONE   \n",
       "3455     Sunday 2016-02-28  01:00     BAYVIEW                   NONE   \n",
       "6514   Thursday 2016-03-24  15:21     CENTRAL                   NONE   \n",
       "2457     Monday 2016-02-15  11:35    SOUTHERN                   NONE   \n",
       "6296     Friday 2016-08-19  20:50    SOUTHERN                   NONE   \n",
       "8195   Saturday 2016-04-02  07:57     MISSION         ARREST, BOOKED   \n",
       "5467   Thursday 2016-03-17  08:59    SOUTHERN        JUVENILE BOOKED   \n",
       "296      Monday 2016-01-11  09:33  TENDERLOIN                   NONE   \n",
       "294      Sunday 2016-01-10  19:15        PARK                   NONE   \n",
       "5148    Tuesday 2016-08-02  17:43    SOUTHERN                   NONE   \n",
       "5479  Wednesday 2016-02-03  05:45     MISSION                   NONE   \n",
       "9245     Friday 2016-03-25  15:48     MISSION         ARREST, BOOKED   \n",
       "2663   Saturday 2016-06-25  11:00    SOUTHERN                   NONE   \n",
       "3229  Wednesday 2016-06-15  09:00        PARK                   NONE   \n",
       "\n",
       "                           Address           X          Y  \\\n",
       "7267            0 Block of TURK ST -122.409854  37.783386   \n",
       "8808       4700 Block of IRVING ST -122.508740  37.762111   \n",
       "548       100 Block of HOLLADAY AV -122.404869  37.747907   \n",
       "8851        200 Block of THRIFT ST -122.461468  37.717487   \n",
       "7078       NEWCOMB AV / LASALLE AV -122.385002  37.733071   \n",
       "45         1500 Block of BRYANT ST -122.410738  37.767524   \n",
       "722      200 Block of BAY SHORE BL -122.404304  37.744218   \n",
       "723      200 Block of BAY SHORE BL -122.404304  37.744218   \n",
       "6369             POLK ST / FERN ST -122.420212  37.788223   \n",
       "4795     100 Block of BLYTHDALE AV -122.420530  37.711002   \n",
       "4067       600 Block of MISSION ST -122.400219  37.787752   \n",
       "7279        2500 Block of MARIN ST -122.402767  37.748220   \n",
       "9653        200 Block of POWELL ST -122.408065  37.786902   \n",
       "7749     200 Block of PARNASSUS AV -122.453068  37.764505   \n",
       "5774      0 Block of HIMMELMANN PL -122.412964  37.796638   \n",
       "7748     200 Block of PARNASSUS AV -122.453068  37.764505   \n",
       "4313            GRANT AV / POST ST -122.405223  37.788694   \n",
       "3455         600 Block of KEITH ST -122.382779  37.737198   \n",
       "6514         1200 Block of PINE ST -122.416387  37.790093   \n",
       "2457  200 Block of INTERSTATE80 HY -122.365565  37.809671   \n",
       "6296          0 Block of TEHAMA ST -122.396478  37.787382   \n",
       "8195         3100 Block of 16TH ST -122.423622  37.764757   \n",
       "5467        800 Block of BRYANT ST -122.403405  37.775421   \n",
       "296             0 Block of TURK ST -122.409849  37.783276   \n",
       "294         600 Block of HAIGHT ST -122.432940  37.771845   \n",
       "5148     100 Block of HAWTHORNE ST -122.397071  37.784003   \n",
       "5479       2300 Block of MARKET ST -122.434229  37.763485   \n",
       "9245         16TH ST / VALENCIA ST -122.421886  37.764918   \n",
       "2663           100 Block of 6TH ST -122.407474  37.779912   \n",
       "3229          0 Block of CASTRO ST -122.435637  37.768169   \n",
       "\n",
       "                                   Location          PdId  \n",
       "7267  (37.7833862379382, -122.409853729941)  1.602580e+13  \n",
       "8808  (37.7621113223499, -122.508740241518)  1.602820e+13  \n",
       "548   (37.7479073004814, -122.404869009565)  1.600430e+13  \n",
       "8851  (37.7174871282718, -122.461467578211)  1.601410e+13  \n",
       "7078  (37.7330708173682, -122.385001533619)  1.602290e+13  \n",
       "45     (37.767524308783, -122.410738097315)  1.600110e+13  \n",
       "722   (37.7442180802683, -122.404304136216)  1.603530e+13  \n",
       "723   (37.7442180802683, -122.404304136216)  1.603530e+13  \n",
       "6369  (37.7882225424263, -122.420211964949)  1.601110e+13  \n",
       "4795  (37.7110023300609, -122.420529801066)  1.602090e+13  \n",
       "4067  (37.7877523788601, -122.400218868349)  1.601930e+13  \n",
       "7279  (37.7482203413295, -122.402767417355)  1.601220e+13  \n",
       "9653  (37.7869021819676, -122.408064958219)  1.602940e+13  \n",
       "7749  (37.7645048381303, -122.453068348596)  1.602640e+13  \n",
       "5774  (37.7966383353382, -122.412963458482)  1.602290e+13  \n",
       "7748  (37.7645048381303, -122.453068348596)  1.602640e+13  \n",
       "4313  (37.7886936920129, -122.405222821755)  1.605710e+13  \n",
       "3455  (37.7371978950809, -122.382779253988)  1.601730e+13  \n",
       "6514  (37.7900934803531, -122.416386784625)  1.602460e+13  \n",
       "2457  (37.8096707013239, -122.365565425353)  1.601350e+13  \n",
       "6296   (37.7873819795737, -122.39647798117)  1.606720e+13  \n",
       "8195  (37.7647573853335, -122.423622537404)  1.602710e+13  \n",
       "5467   (37.775420706711, -122.403404791479)  1.602240e+13  \n",
       "296   (37.7832755202567, -122.409849441655)  1.600280e+13  \n",
       "294    (37.7718450016424, -122.43294024481)  1.600280e+13  \n",
       "5148  (37.7840030154412, -122.397071005597)  1.606240e+13  \n",
       "5479  (37.7634850137846, -122.434229003953)  1.600990e+13  \n",
       "9245  (37.7649178909424, -122.421886357981)  1.602480e+13  \n",
       "2663   (37.779911669335, -122.407474439624)  1.605290e+13  \n",
       "3229  (37.7681694346175, -122.435637436721)  1.605530e+13  "
      ]
     },
     "execution_count": 9,
     "metadata": {},
     "output_type": "execute_result"
    }
   ],
   "source": [
    "df.sort_values(by='Category', ascending=True, inplace=True)\n",
    "df.head(30)"
   ]
  },
  {
   "cell_type": "code",
   "execution_count": 10,
   "metadata": {},
   "outputs": [
    {
     "data": {
      "text/html": [
       "<div>\n",
       "<style scoped>\n",
       "    .dataframe tbody tr th:only-of-type {\n",
       "        vertical-align: middle;\n",
       "    }\n",
       "\n",
       "    .dataframe tbody tr th {\n",
       "        vertical-align: top;\n",
       "    }\n",
       "\n",
       "    .dataframe thead th {\n",
       "        text-align: right;\n",
       "    }\n",
       "</style>\n",
       "<table border=\"1\" class=\"dataframe\">\n",
       "  <thead>\n",
       "    <tr style=\"text-align: right;\">\n",
       "      <th></th>\n",
       "      <th>IncidntNum</th>\n",
       "      <th>Category</th>\n",
       "      <th>Descript</th>\n",
       "      <th>DayOfWeek</th>\n",
       "      <th>Date</th>\n",
       "      <th>Time</th>\n",
       "      <th>PdDistrict</th>\n",
       "      <th>Resolution</th>\n",
       "      <th>Address</th>\n",
       "      <th>X</th>\n",
       "      <th>Y</th>\n",
       "      <th>Location</th>\n",
       "      <th>PdId</th>\n",
       "    </tr>\n",
       "  </thead>\n",
       "  <tbody>\n",
       "    <tr>\n",
       "      <th>2467</th>\n",
       "      <td>150273337.0</td>\n",
       "      <td>WARRANTS</td>\n",
       "      <td>WARRANT ARREST</td>\n",
       "      <td>Wednesday</td>\n",
       "      <td>2016-12-21</td>\n",
       "      <td>18:17</td>\n",
       "      <td>TENDERLOIN</td>\n",
       "      <td>ARREST, BOOKED</td>\n",
       "      <td>300 Block of JONES ST</td>\n",
       "      <td>-122.412759</td>\n",
       "      <td>37.784400</td>\n",
       "      <td>(37.7843997500192, -122.412758846145)</td>\n",
       "      <td>1.502730e+13</td>\n",
       "    </tr>\n",
       "    <tr>\n",
       "      <th>116</th>\n",
       "      <td>150480366.0</td>\n",
       "      <td>DRUNKENNESS</td>\n",
       "      <td>UNDER INFLUENCE OF ALCOHOL IN A PUBLIC PLACE</td>\n",
       "      <td>Thursday</td>\n",
       "      <td>2016-12-08</td>\n",
       "      <td>15:00</td>\n",
       "      <td>NORTHERN</td>\n",
       "      <td>ARREST, BOOKED</td>\n",
       "      <td>PINE ST / POLK ST</td>\n",
       "      <td>-122.420497</td>\n",
       "      <td>37.789619</td>\n",
       "      <td>(37.789618819255, -122.42049728879)</td>\n",
       "      <td>1.504800e+13</td>\n",
       "    </tr>\n",
       "    <tr>\n",
       "      <th>117</th>\n",
       "      <td>150480366.0</td>\n",
       "      <td>VANDALISM</td>\n",
       "      <td>MALICIOUS MISCHIEF, VANDALISM</td>\n",
       "      <td>Thursday</td>\n",
       "      <td>2016-12-08</td>\n",
       "      <td>15:00</td>\n",
       "      <td>NORTHERN</td>\n",
       "      <td>ARREST, BOOKED</td>\n",
       "      <td>PINE ST / POLK ST</td>\n",
       "      <td>-122.420497</td>\n",
       "      <td>37.789619</td>\n",
       "      <td>(37.789618819255, -122.42049728879)</td>\n",
       "      <td>1.504800e+13</td>\n",
       "    </tr>\n",
       "    <tr>\n",
       "      <th>118</th>\n",
       "      <td>150480366.0</td>\n",
       "      <td>VANDALISM</td>\n",
       "      <td>MALICIOUS MISCHIEF, VANDALISM OF VEHICLES</td>\n",
       "      <td>Thursday</td>\n",
       "      <td>2016-12-08</td>\n",
       "      <td>15:00</td>\n",
       "      <td>NORTHERN</td>\n",
       "      <td>ARREST, BOOKED</td>\n",
       "      <td>PINE ST / POLK ST</td>\n",
       "      <td>-122.420497</td>\n",
       "      <td>37.789619</td>\n",
       "      <td>(37.789618819255, -122.42049728879)</td>\n",
       "      <td>1.504800e+13</td>\n",
       "    </tr>\n",
       "    <tr>\n",
       "      <th>115</th>\n",
       "      <td>150480366.0</td>\n",
       "      <td>VEHICLE THEFT</td>\n",
       "      <td>STOLEN AND RECOVERED VEHICLE</td>\n",
       "      <td>Thursday</td>\n",
       "      <td>2016-12-08</td>\n",
       "      <td>15:00</td>\n",
       "      <td>NORTHERN</td>\n",
       "      <td>ARREST, BOOKED</td>\n",
       "      <td>PINE ST / POLK ST</td>\n",
       "      <td>-122.420497</td>\n",
       "      <td>37.789619</td>\n",
       "      <td>(37.789618819255, -122.42049728879)</td>\n",
       "      <td>1.504800e+13</td>\n",
       "    </tr>\n",
       "    <tr>\n",
       "      <th>5332</th>\n",
       "      <td>160220970.0</td>\n",
       "      <td>FRAUD</td>\n",
       "      <td>CREDIT CARD, THEFT BY USE OF</td>\n",
       "      <td>Friday</td>\n",
       "      <td>2016-11-18</td>\n",
       "      <td>12:00</td>\n",
       "      <td>BAYVIEW</td>\n",
       "      <td>NONE</td>\n",
       "      <td>1200 Block of DEHARO ST</td>\n",
       "      <td>-122.400632</td>\n",
       "      <td>37.753965</td>\n",
       "      <td>(37.7539653995399, -122.4006319548)</td>\n",
       "      <td>1.602210e+13</td>\n",
       "    </tr>\n",
       "    <tr>\n",
       "      <th>9554</th>\n",
       "      <td>160939676.0</td>\n",
       "      <td>ASSAULT</td>\n",
       "      <td>BATTERY</td>\n",
       "      <td>Monday</td>\n",
       "      <td>2016-11-14</td>\n",
       "      <td>09:20</td>\n",
       "      <td>NORTHERN</td>\n",
       "      <td>NONE</td>\n",
       "      <td>ELLIS ST / POLK ST</td>\n",
       "      <td>-122.419366</td>\n",
       "      <td>37.784028</td>\n",
       "      <td>(37.7840280452032, -122.419366294797)</td>\n",
       "      <td>1.609400e+13</td>\n",
       "    </tr>\n",
       "    <tr>\n",
       "      <th>9964</th>\n",
       "      <td>160893652.0</td>\n",
       "      <td>NON-CRIMINAL</td>\n",
       "      <td>CIVIL SIDEWALKS, WARNING</td>\n",
       "      <td>Wednesday</td>\n",
       "      <td>2016-11-02</td>\n",
       "      <td>18:02</td>\n",
       "      <td>MISSION</td>\n",
       "      <td>NONE</td>\n",
       "      <td>21ST ST / SHOTWELL ST</td>\n",
       "      <td>-122.415629</td>\n",
       "      <td>37.757232</td>\n",
       "      <td>(37.757232227914, -122.415629332446)</td>\n",
       "      <td>1.608940e+13</td>\n",
       "    </tr>\n",
       "    <tr>\n",
       "      <th>9963</th>\n",
       "      <td>160893464.0</td>\n",
       "      <td>WEAPON LAWS</td>\n",
       "      <td>CARRYING A CONCEALED WEAPON</td>\n",
       "      <td>Wednesday</td>\n",
       "      <td>2016-11-02</td>\n",
       "      <td>16:42</td>\n",
       "      <td>BAYVIEW</td>\n",
       "      <td>NONE</td>\n",
       "      <td>1100 Block of 18TH ST</td>\n",
       "      <td>-122.394108</td>\n",
       "      <td>37.762671</td>\n",
       "      <td>(37.7626705352496, -122.394108177688)</td>\n",
       "      <td>1.608930e+13</td>\n",
       "    </tr>\n",
       "    <tr>\n",
       "      <th>9962</th>\n",
       "      <td>160893395.0</td>\n",
       "      <td>ASSAULT</td>\n",
       "      <td>BATTERY</td>\n",
       "      <td>Wednesday</td>\n",
       "      <td>2016-11-02</td>\n",
       "      <td>16:15</td>\n",
       "      <td>TARAVAL</td>\n",
       "      <td>NONE</td>\n",
       "      <td>MONTEREY BL / NORTHGATE DR</td>\n",
       "      <td>-122.461737</td>\n",
       "      <td>37.730023</td>\n",
       "      <td>(37.7300233378439, -122.461736679015)</td>\n",
       "      <td>1.608930e+13</td>\n",
       "    </tr>\n",
       "    <tr>\n",
       "      <th>9953</th>\n",
       "      <td>160892842.0</td>\n",
       "      <td>SUSPICIOUS OCC</td>\n",
       "      <td>SUSPICIOUS OCCURRENCE</td>\n",
       "      <td>Wednesday</td>\n",
       "      <td>2016-11-02</td>\n",
       "      <td>10:00</td>\n",
       "      <td>MISSION</td>\n",
       "      <td>NONE</td>\n",
       "      <td>200 Block of 14TH ST</td>\n",
       "      <td>-122.418885</td>\n",
       "      <td>37.768285</td>\n",
       "      <td>(37.7682847825555, -122.418885184858)</td>\n",
       "      <td>1.608930e+13</td>\n",
       "    </tr>\n",
       "    <tr>\n",
       "      <th>9951</th>\n",
       "      <td>160892820.0</td>\n",
       "      <td>ASSAULT</td>\n",
       "      <td>THREATS AGAINST LIFE</td>\n",
       "      <td>Wednesday</td>\n",
       "      <td>2016-11-02</td>\n",
       "      <td>11:45</td>\n",
       "      <td>PARK</td>\n",
       "      <td>NONE</td>\n",
       "      <td>STANYAN ST / WALLER ST</td>\n",
       "      <td>-122.453355</td>\n",
       "      <td>37.768246</td>\n",
       "      <td>(37.7682463076665, -122.453354647469)</td>\n",
       "      <td>1.608930e+13</td>\n",
       "    </tr>\n",
       "    <tr>\n",
       "      <th>9950</th>\n",
       "      <td>160892814.0</td>\n",
       "      <td>OTHER OFFENSES</td>\n",
       "      <td>DRIVERS LICENSE, SUSPENDED OR REVOKED</td>\n",
       "      <td>Wednesday</td>\n",
       "      <td>2016-11-02</td>\n",
       "      <td>12:10</td>\n",
       "      <td>BAYVIEW</td>\n",
       "      <td>ARREST, BOOKED</td>\n",
       "      <td>QUESADA AV / 3RD ST</td>\n",
       "      <td>-122.391246</td>\n",
       "      <td>37.733225</td>\n",
       "      <td>(37.7332252032804, -122.391245623019)</td>\n",
       "      <td>1.608930e+13</td>\n",
       "    </tr>\n",
       "    <tr>\n",
       "      <th>9945</th>\n",
       "      <td>160892591.0</td>\n",
       "      <td>ASSAULT</td>\n",
       "      <td>THREATS AGAINST LIFE</td>\n",
       "      <td>Wednesday</td>\n",
       "      <td>2016-11-02</td>\n",
       "      <td>10:19</td>\n",
       "      <td>BAYVIEW</td>\n",
       "      <td>NONE</td>\n",
       "      <td>0 Block of CASHMERE ST</td>\n",
       "      <td>-122.382705</td>\n",
       "      <td>37.735886</td>\n",
       "      <td>(37.7358858148594, -122.382705072801)</td>\n",
       "      <td>1.608930e+13</td>\n",
       "    </tr>\n",
       "    <tr>\n",
       "      <th>9944</th>\n",
       "      <td>160892585.0</td>\n",
       "      <td>VANDALISM</td>\n",
       "      <td>MALICIOUS MISCHIEF, VANDALISM OF VEHICLES</td>\n",
       "      <td>Wednesday</td>\n",
       "      <td>2016-11-02</td>\n",
       "      <td>10:38</td>\n",
       "      <td>NORTHERN</td>\n",
       "      <td>ARREST, BOOKED</td>\n",
       "      <td>100 Block of GROVE ST</td>\n",
       "      <td>-122.419064</td>\n",
       "      <td>37.778327</td>\n",
       "      <td>(37.7783268674219, -122.419063862505)</td>\n",
       "      <td>1.608930e+13</td>\n",
       "    </tr>\n",
       "    <tr>\n",
       "      <th>9933</th>\n",
       "      <td>160891662.0</td>\n",
       "      <td>ASSAULT</td>\n",
       "      <td>FALSE IMPRISONMENT</td>\n",
       "      <td>Tuesday</td>\n",
       "      <td>2016-11-01</td>\n",
       "      <td>22:30</td>\n",
       "      <td>INGLESIDE</td>\n",
       "      <td>ARREST, BOOKED</td>\n",
       "      <td>MISSION ST / OCEAN AV</td>\n",
       "      <td>-122.435385</td>\n",
       "      <td>37.723910</td>\n",
       "      <td>(37.7239104470753, -122.435385454946)</td>\n",
       "      <td>1.608920e+13</td>\n",
       "    </tr>\n",
       "    <tr>\n",
       "      <th>9860</th>\n",
       "      <td>160889786.0</td>\n",
       "      <td>BURGLARY</td>\n",
       "      <td>BURGLARY OF RESIDENCE, ATTEMPTED FORCIBLE ENTRY</td>\n",
       "      <td>Tuesday</td>\n",
       "      <td>2016-11-01</td>\n",
       "      <td>02:54</td>\n",
       "      <td>MISSION</td>\n",
       "      <td>NONE</td>\n",
       "      <td>4000 Block of 19TH ST</td>\n",
       "      <td>-122.433209</td>\n",
       "      <td>37.759334</td>\n",
       "      <td>(37.7593336636293, -122.433208516014)</td>\n",
       "      <td>1.608900e+13</td>\n",
       "    </tr>\n",
       "    <tr>\n",
       "      <th>9857</th>\n",
       "      <td>160889736.0</td>\n",
       "      <td>WARRANTS</td>\n",
       "      <td>ENROUTE TO OUTSIDE JURISDICTION</td>\n",
       "      <td>Tuesday</td>\n",
       "      <td>2016-11-01</td>\n",
       "      <td>10:43</td>\n",
       "      <td>SOUTHERN</td>\n",
       "      <td>ARREST, BOOKED</td>\n",
       "      <td>800 Block of BRYANT ST</td>\n",
       "      <td>-122.403405</td>\n",
       "      <td>37.775421</td>\n",
       "      <td>(37.775420706711, -122.403404791479)</td>\n",
       "      <td>1.608900e+13</td>\n",
       "    </tr>\n",
       "    <tr>\n",
       "      <th>9986</th>\n",
       "      <td>160895846.0</td>\n",
       "      <td>OTHER OFFENSES</td>\n",
       "      <td>FALSE PERSONATION</td>\n",
       "      <td>Monday</td>\n",
       "      <td>2016-10-31</td>\n",
       "      <td>10:00</td>\n",
       "      <td>MISSION</td>\n",
       "      <td>NONE</td>\n",
       "      <td>100 Block of CAPP ST</td>\n",
       "      <td>-122.418550</td>\n",
       "      <td>37.764284</td>\n",
       "      <td>(37.7642837095036, -122.418549940195)</td>\n",
       "      <td>1.608960e+13</td>\n",
       "    </tr>\n",
       "    <tr>\n",
       "      <th>9859</th>\n",
       "      <td>160889764.0</td>\n",
       "      <td>OTHER OFFENSES</td>\n",
       "      <td>LOST/STOLEN LICENSE PLATE</td>\n",
       "      <td>Monday</td>\n",
       "      <td>2016-10-31</td>\n",
       "      <td>17:30</td>\n",
       "      <td>MISSION</td>\n",
       "      <td>NONE</td>\n",
       "      <td>SOUTH VAN NESS AV / 26TH ST</td>\n",
       "      <td>-122.415954</td>\n",
       "      <td>37.749173</td>\n",
       "      <td>(37.7491729638325, -122.415954301518)</td>\n",
       "      <td>1.608900e+13</td>\n",
       "    </tr>\n",
       "    <tr>\n",
       "      <th>9826</th>\n",
       "      <td>160887677.0</td>\n",
       "      <td>ASSAULT</td>\n",
       "      <td>BATTERY</td>\n",
       "      <td>Monday</td>\n",
       "      <td>2016-10-31</td>\n",
       "      <td>16:48</td>\n",
       "      <td>TENDERLOIN</td>\n",
       "      <td>NONE</td>\n",
       "      <td>100 Block of HYDE ST</td>\n",
       "      <td>-122.415670</td>\n",
       "      <td>37.782120</td>\n",
       "      <td>(37.7821198488931, -122.415669661443)</td>\n",
       "      <td>1.608880e+13</td>\n",
       "    </tr>\n",
       "    <tr>\n",
       "      <th>9727</th>\n",
       "      <td>160884689.0</td>\n",
       "      <td>VEHICLE THEFT</td>\n",
       "      <td>STOLEN TRUCK</td>\n",
       "      <td>Sunday</td>\n",
       "      <td>2016-10-30</td>\n",
       "      <td>13:20</td>\n",
       "      <td>INGLESIDE</td>\n",
       "      <td>NONE</td>\n",
       "      <td>100 Block of OCEAN AV</td>\n",
       "      <td>-122.439345</td>\n",
       "      <td>37.723624</td>\n",
       "      <td>(37.723624467748, -122.43934468789)</td>\n",
       "      <td>1.608850e+13</td>\n",
       "    </tr>\n",
       "    <tr>\n",
       "      <th>9715</th>\n",
       "      <td>160883766.0</td>\n",
       "      <td>WEAPON LAWS</td>\n",
       "      <td>EXHIBITING DEADLY WEAPON IN A THREATING MANNER</td>\n",
       "      <td>Sunday</td>\n",
       "      <td>2016-10-30</td>\n",
       "      <td>11:17</td>\n",
       "      <td>BAYVIEW</td>\n",
       "      <td>ARREST, BOOKED</td>\n",
       "      <td>3800 Block of 3RD ST</td>\n",
       "      <td>-122.387940</td>\n",
       "      <td>37.742260</td>\n",
       "      <td>(37.7422600519555, -122.387939452192)</td>\n",
       "      <td>1.608840e+13</td>\n",
       "    </tr>\n",
       "    <tr>\n",
       "      <th>9710</th>\n",
       "      <td>160883249.0</td>\n",
       "      <td>VANDALISM</td>\n",
       "      <td>MALICIOUS MISCHIEF, VANDALISM OF VEHICLES</td>\n",
       "      <td>Sunday</td>\n",
       "      <td>2016-10-30</td>\n",
       "      <td>03:08</td>\n",
       "      <td>CENTRAL</td>\n",
       "      <td>ARREST, BOOKED</td>\n",
       "      <td>0 Block of BROADWAY ST</td>\n",
       "      <td>-122.399296</td>\n",
       "      <td>37.798859</td>\n",
       "      <td>(37.798859198392, -122.399295690795)</td>\n",
       "      <td>1.608830e+13</td>\n",
       "    </tr>\n",
       "    <tr>\n",
       "      <th>9714</th>\n",
       "      <td>160883750.0</td>\n",
       "      <td>BURGLARY</td>\n",
       "      <td>BURGLARY OF STORE, FORCIBLE ENTRY</td>\n",
       "      <td>Saturday</td>\n",
       "      <td>2016-10-29</td>\n",
       "      <td>19:00</td>\n",
       "      <td>CENTRAL</td>\n",
       "      <td>NONE</td>\n",
       "      <td>200 Block of GRANT AV</td>\n",
       "      <td>-122.405185</td>\n",
       "      <td>37.788876</td>\n",
       "      <td>(37.7888762183538, -122.405184569667)</td>\n",
       "      <td>1.608840e+13</td>\n",
       "    </tr>\n",
       "    <tr>\n",
       "      <th>9711</th>\n",
       "      <td>160883255.0</td>\n",
       "      <td>LARCENY/THEFT</td>\n",
       "      <td>GRAND THEFT FROM LOCKED AUTO</td>\n",
       "      <td>Saturday</td>\n",
       "      <td>2016-10-29</td>\n",
       "      <td>21:50</td>\n",
       "      <td>SOUTHERN</td>\n",
       "      <td>NONE</td>\n",
       "      <td>600 Block of MINNA ST</td>\n",
       "      <td>-122.411206</td>\n",
       "      <td>37.778224</td>\n",
       "      <td>(37.7782244806331, -122.411205728723)</td>\n",
       "      <td>1.608830e+13</td>\n",
       "    </tr>\n",
       "    <tr>\n",
       "      <th>9644</th>\n",
       "      <td>160880427.0</td>\n",
       "      <td>OTHER OFFENSES</td>\n",
       "      <td>RESISTING ARREST</td>\n",
       "      <td>Saturday</td>\n",
       "      <td>2016-10-29</td>\n",
       "      <td>06:20</td>\n",
       "      <td>MISSION</td>\n",
       "      <td>ARREST, BOOKED</td>\n",
       "      <td>20TH ST / DOLORES ST</td>\n",
       "      <td>-122.425768</td>\n",
       "      <td>37.758226</td>\n",
       "      <td>(37.7582261992584, -122.425768246873)</td>\n",
       "      <td>1.608800e+13</td>\n",
       "    </tr>\n",
       "    <tr>\n",
       "      <th>9645</th>\n",
       "      <td>160880427.0</td>\n",
       "      <td>VANDALISM</td>\n",
       "      <td>MALICIOUS MISCHIEF, GRAFFITI</td>\n",
       "      <td>Saturday</td>\n",
       "      <td>2016-10-29</td>\n",
       "      <td>06:20</td>\n",
       "      <td>MISSION</td>\n",
       "      <td>ARREST, BOOKED</td>\n",
       "      <td>20TH ST / DOLORES ST</td>\n",
       "      <td>-122.425768</td>\n",
       "      <td>37.758226</td>\n",
       "      <td>(37.7582261992584, -122.425768246873)</td>\n",
       "      <td>1.608800e+13</td>\n",
       "    </tr>\n",
       "    <tr>\n",
       "      <th>9611</th>\n",
       "      <td>160877424.0</td>\n",
       "      <td>VANDALISM</td>\n",
       "      <td>MALICIOUS MISCHIEF, VANDALISM OF VEHICLES</td>\n",
       "      <td>Friday</td>\n",
       "      <td>2016-10-28</td>\n",
       "      <td>05:30</td>\n",
       "      <td>NORTHERN</td>\n",
       "      <td>NONE</td>\n",
       "      <td>0 Block of DANIELBURNHAM CT</td>\n",
       "      <td>-122.422541</td>\n",
       "      <td>37.786909</td>\n",
       "      <td>(37.7869088658022, -122.422540554174)</td>\n",
       "      <td>1.608770e+13</td>\n",
       "    </tr>\n",
       "    <tr>\n",
       "      <th>9603</th>\n",
       "      <td>160876642.0</td>\n",
       "      <td>ASSAULT</td>\n",
       "      <td>BATTERY</td>\n",
       "      <td>Thursday</td>\n",
       "      <td>2016-10-27</td>\n",
       "      <td>20:55</td>\n",
       "      <td>MISSION</td>\n",
       "      <td>ARREST, BOOKED</td>\n",
       "      <td>2000 Block of MISSION ST</td>\n",
       "      <td>-122.419658</td>\n",
       "      <td>37.764221</td>\n",
       "      <td>(37.7642205603745, -122.41965834371)</td>\n",
       "      <td>1.608770e+13</td>\n",
       "    </tr>\n",
       "  </tbody>\n",
       "</table>\n",
       "</div>"
      ],
      "text/plain": [
       "       IncidntNum        Category  \\\n",
       "2467  150273337.0        WARRANTS   \n",
       "116   150480366.0     DRUNKENNESS   \n",
       "117   150480366.0       VANDALISM   \n",
       "118   150480366.0       VANDALISM   \n",
       "115   150480366.0   VEHICLE THEFT   \n",
       "5332  160220970.0           FRAUD   \n",
       "9554  160939676.0         ASSAULT   \n",
       "9964  160893652.0    NON-CRIMINAL   \n",
       "9963  160893464.0     WEAPON LAWS   \n",
       "9962  160893395.0         ASSAULT   \n",
       "9953  160892842.0  SUSPICIOUS OCC   \n",
       "9951  160892820.0         ASSAULT   \n",
       "9950  160892814.0  OTHER OFFENSES   \n",
       "9945  160892591.0         ASSAULT   \n",
       "9944  160892585.0       VANDALISM   \n",
       "9933  160891662.0         ASSAULT   \n",
       "9860  160889786.0        BURGLARY   \n",
       "9857  160889736.0        WARRANTS   \n",
       "9986  160895846.0  OTHER OFFENSES   \n",
       "9859  160889764.0  OTHER OFFENSES   \n",
       "9826  160887677.0         ASSAULT   \n",
       "9727  160884689.0   VEHICLE THEFT   \n",
       "9715  160883766.0     WEAPON LAWS   \n",
       "9710  160883249.0       VANDALISM   \n",
       "9714  160883750.0        BURGLARY   \n",
       "9711  160883255.0   LARCENY/THEFT   \n",
       "9644  160880427.0  OTHER OFFENSES   \n",
       "9645  160880427.0       VANDALISM   \n",
       "9611  160877424.0       VANDALISM   \n",
       "9603  160876642.0         ASSAULT   \n",
       "\n",
       "                                             Descript  DayOfWeek       Date  \\\n",
       "2467                                   WARRANT ARREST  Wednesday 2016-12-21   \n",
       "116      UNDER INFLUENCE OF ALCOHOL IN A PUBLIC PLACE   Thursday 2016-12-08   \n",
       "117                     MALICIOUS MISCHIEF, VANDALISM   Thursday 2016-12-08   \n",
       "118         MALICIOUS MISCHIEF, VANDALISM OF VEHICLES   Thursday 2016-12-08   \n",
       "115                      STOLEN AND RECOVERED VEHICLE   Thursday 2016-12-08   \n",
       "5332                     CREDIT CARD, THEFT BY USE OF     Friday 2016-11-18   \n",
       "9554                                          BATTERY     Monday 2016-11-14   \n",
       "9964                         CIVIL SIDEWALKS, WARNING  Wednesday 2016-11-02   \n",
       "9963                      CARRYING A CONCEALED WEAPON  Wednesday 2016-11-02   \n",
       "9962                                          BATTERY  Wednesday 2016-11-02   \n",
       "9953                            SUSPICIOUS OCCURRENCE  Wednesday 2016-11-02   \n",
       "9951                             THREATS AGAINST LIFE  Wednesday 2016-11-02   \n",
       "9950            DRIVERS LICENSE, SUSPENDED OR REVOKED  Wednesday 2016-11-02   \n",
       "9945                             THREATS AGAINST LIFE  Wednesday 2016-11-02   \n",
       "9944        MALICIOUS MISCHIEF, VANDALISM OF VEHICLES  Wednesday 2016-11-02   \n",
       "9933                               FALSE IMPRISONMENT    Tuesday 2016-11-01   \n",
       "9860  BURGLARY OF RESIDENCE, ATTEMPTED FORCIBLE ENTRY    Tuesday 2016-11-01   \n",
       "9857                  ENROUTE TO OUTSIDE JURISDICTION    Tuesday 2016-11-01   \n",
       "9986                                FALSE PERSONATION     Monday 2016-10-31   \n",
       "9859                        LOST/STOLEN LICENSE PLATE     Monday 2016-10-31   \n",
       "9826                                          BATTERY     Monday 2016-10-31   \n",
       "9727                                     STOLEN TRUCK     Sunday 2016-10-30   \n",
       "9715   EXHIBITING DEADLY WEAPON IN A THREATING MANNER     Sunday 2016-10-30   \n",
       "9710        MALICIOUS MISCHIEF, VANDALISM OF VEHICLES     Sunday 2016-10-30   \n",
       "9714                BURGLARY OF STORE, FORCIBLE ENTRY   Saturday 2016-10-29   \n",
       "9711                     GRAND THEFT FROM LOCKED AUTO   Saturday 2016-10-29   \n",
       "9644                                 RESISTING ARREST   Saturday 2016-10-29   \n",
       "9645                     MALICIOUS MISCHIEF, GRAFFITI   Saturday 2016-10-29   \n",
       "9611        MALICIOUS MISCHIEF, VANDALISM OF VEHICLES     Friday 2016-10-28   \n",
       "9603                                          BATTERY   Thursday 2016-10-27   \n",
       "\n",
       "       Time  PdDistrict      Resolution                      Address  \\\n",
       "2467  18:17  TENDERLOIN  ARREST, BOOKED        300 Block of JONES ST   \n",
       "116   15:00    NORTHERN  ARREST, BOOKED            PINE ST / POLK ST   \n",
       "117   15:00    NORTHERN  ARREST, BOOKED            PINE ST / POLK ST   \n",
       "118   15:00    NORTHERN  ARREST, BOOKED            PINE ST / POLK ST   \n",
       "115   15:00    NORTHERN  ARREST, BOOKED            PINE ST / POLK ST   \n",
       "5332  12:00     BAYVIEW            NONE      1200 Block of DEHARO ST   \n",
       "9554  09:20    NORTHERN            NONE           ELLIS ST / POLK ST   \n",
       "9964  18:02     MISSION            NONE        21ST ST / SHOTWELL ST   \n",
       "9963  16:42     BAYVIEW            NONE        1100 Block of 18TH ST   \n",
       "9962  16:15     TARAVAL            NONE   MONTEREY BL / NORTHGATE DR   \n",
       "9953  10:00     MISSION            NONE         200 Block of 14TH ST   \n",
       "9951  11:45        PARK            NONE       STANYAN ST / WALLER ST   \n",
       "9950  12:10     BAYVIEW  ARREST, BOOKED          QUESADA AV / 3RD ST   \n",
       "9945  10:19     BAYVIEW            NONE       0 Block of CASHMERE ST   \n",
       "9944  10:38    NORTHERN  ARREST, BOOKED        100 Block of GROVE ST   \n",
       "9933  22:30   INGLESIDE  ARREST, BOOKED        MISSION ST / OCEAN AV   \n",
       "9860  02:54     MISSION            NONE        4000 Block of 19TH ST   \n",
       "9857  10:43    SOUTHERN  ARREST, BOOKED       800 Block of BRYANT ST   \n",
       "9986  10:00     MISSION            NONE         100 Block of CAPP ST   \n",
       "9859  17:30     MISSION            NONE  SOUTH VAN NESS AV / 26TH ST   \n",
       "9826  16:48  TENDERLOIN            NONE         100 Block of HYDE ST   \n",
       "9727  13:20   INGLESIDE            NONE        100 Block of OCEAN AV   \n",
       "9715  11:17     BAYVIEW  ARREST, BOOKED         3800 Block of 3RD ST   \n",
       "9710  03:08     CENTRAL  ARREST, BOOKED       0 Block of BROADWAY ST   \n",
       "9714  19:00     CENTRAL            NONE        200 Block of GRANT AV   \n",
       "9711  21:50    SOUTHERN            NONE        600 Block of MINNA ST   \n",
       "9644  06:20     MISSION  ARREST, BOOKED         20TH ST / DOLORES ST   \n",
       "9645  06:20     MISSION  ARREST, BOOKED         20TH ST / DOLORES ST   \n",
       "9611  05:30    NORTHERN            NONE  0 Block of DANIELBURNHAM CT   \n",
       "9603  20:55     MISSION  ARREST, BOOKED     2000 Block of MISSION ST   \n",
       "\n",
       "               X          Y                               Location  \\\n",
       "2467 -122.412759  37.784400  (37.7843997500192, -122.412758846145)   \n",
       "116  -122.420497  37.789619    (37.789618819255, -122.42049728879)   \n",
       "117  -122.420497  37.789619    (37.789618819255, -122.42049728879)   \n",
       "118  -122.420497  37.789619    (37.789618819255, -122.42049728879)   \n",
       "115  -122.420497  37.789619    (37.789618819255, -122.42049728879)   \n",
       "5332 -122.400632  37.753965    (37.7539653995399, -122.4006319548)   \n",
       "9554 -122.419366  37.784028  (37.7840280452032, -122.419366294797)   \n",
       "9964 -122.415629  37.757232   (37.757232227914, -122.415629332446)   \n",
       "9963 -122.394108  37.762671  (37.7626705352496, -122.394108177688)   \n",
       "9962 -122.461737  37.730023  (37.7300233378439, -122.461736679015)   \n",
       "9953 -122.418885  37.768285  (37.7682847825555, -122.418885184858)   \n",
       "9951 -122.453355  37.768246  (37.7682463076665, -122.453354647469)   \n",
       "9950 -122.391246  37.733225  (37.7332252032804, -122.391245623019)   \n",
       "9945 -122.382705  37.735886  (37.7358858148594, -122.382705072801)   \n",
       "9944 -122.419064  37.778327  (37.7783268674219, -122.419063862505)   \n",
       "9933 -122.435385  37.723910  (37.7239104470753, -122.435385454946)   \n",
       "9860 -122.433209  37.759334  (37.7593336636293, -122.433208516014)   \n",
       "9857 -122.403405  37.775421   (37.775420706711, -122.403404791479)   \n",
       "9986 -122.418550  37.764284  (37.7642837095036, -122.418549940195)   \n",
       "9859 -122.415954  37.749173  (37.7491729638325, -122.415954301518)   \n",
       "9826 -122.415670  37.782120  (37.7821198488931, -122.415669661443)   \n",
       "9727 -122.439345  37.723624    (37.723624467748, -122.43934468789)   \n",
       "9715 -122.387940  37.742260  (37.7422600519555, -122.387939452192)   \n",
       "9710 -122.399296  37.798859   (37.798859198392, -122.399295690795)   \n",
       "9714 -122.405185  37.788876  (37.7888762183538, -122.405184569667)   \n",
       "9711 -122.411206  37.778224  (37.7782244806331, -122.411205728723)   \n",
       "9644 -122.425768  37.758226  (37.7582261992584, -122.425768246873)   \n",
       "9645 -122.425768  37.758226  (37.7582261992584, -122.425768246873)   \n",
       "9611 -122.422541  37.786909  (37.7869088658022, -122.422540554174)   \n",
       "9603 -122.419658  37.764221   (37.7642205603745, -122.41965834371)   \n",
       "\n",
       "              PdId  \n",
       "2467  1.502730e+13  \n",
       "116   1.504800e+13  \n",
       "117   1.504800e+13  \n",
       "118   1.504800e+13  \n",
       "115   1.504800e+13  \n",
       "5332  1.602210e+13  \n",
       "9554  1.609400e+13  \n",
       "9964  1.608940e+13  \n",
       "9963  1.608930e+13  \n",
       "9962  1.608930e+13  \n",
       "9953  1.608930e+13  \n",
       "9951  1.608930e+13  \n",
       "9950  1.608930e+13  \n",
       "9945  1.608930e+13  \n",
       "9944  1.608930e+13  \n",
       "9933  1.608920e+13  \n",
       "9860  1.608900e+13  \n",
       "9857  1.608900e+13  \n",
       "9986  1.608960e+13  \n",
       "9859  1.608900e+13  \n",
       "9826  1.608880e+13  \n",
       "9727  1.608850e+13  \n",
       "9715  1.608840e+13  \n",
       "9710  1.608830e+13  \n",
       "9714  1.608840e+13  \n",
       "9711  1.608830e+13  \n",
       "9644  1.608800e+13  \n",
       "9645  1.608800e+13  \n",
       "9611  1.608770e+13  \n",
       "9603  1.608770e+13  "
      ]
     },
     "execution_count": 10,
     "metadata": {},
     "output_type": "execute_result"
    }
   ],
   "source": [
    "df.sort_values(by=['Date','IncidntNum'], ascending=False, inplace=True)\n",
    "df.head(30)"
   ]
  },
  {
   "cell_type": "code",
   "execution_count": 11,
   "metadata": {},
   "outputs": [
    {
     "data": {
      "text/plain": [
       "LARCENY/THEFT                  1566\n",
       "OTHER OFFENSES                 1476\n",
       "NON-CRIMINAL                   1242\n",
       "ASSAULT                        1075\n",
       "WARRANTS                        555\n",
       "VEHICLE THEFT                   529\n",
       "VANDALISM                       475\n",
       "BURGLARY                        458\n",
       "SUSPICIOUS OCC                  443\n",
       "DRUG/NARCOTIC                   396\n",
       "MISSING PERSON                  364\n",
       "ROBBERY                         268\n",
       "FRAUD                           188\n",
       "SECONDARY CODES                 146\n",
       "TRESPASS                        146\n",
       "WEAPON LAWS                     141\n",
       "RECOVERED VEHICLE                77\n",
       "SEX OFFENSES, FORCIBLE           74\n",
       "PROSTITUTION                     59\n",
       "STOLEN PROPERTY                  55\n",
       "DRUNKENNESS                      51\n",
       "FORGERY/COUNTERFEITING           48\n",
       "DISORDERLY CONDUCT               45\n",
       "DRIVING UNDER THE INFLUENCE      32\n",
       "ARSON                            28\n",
       "KIDNAPPING                       22\n",
       "RUNAWAY                          13\n",
       "BRIBERY                          13\n",
       "LIQUOR LAWS                       9\n",
       "SUICIDE                           6\n",
       "EXTORTION                         5\n",
       "EMBEZZLEMENT                      5\n",
       "FAMILY OFFENSES                   4\n",
       "LOITERING                         2\n",
       "SEX OFFENSES, NON FORCIBLE        2\n",
       "GAMBLING                          1\n",
       "Name: Category, dtype: int64"
      ]
     },
     "execution_count": 11,
     "metadata": {},
     "output_type": "execute_result"
    }
   ],
   "source": [
    "df.Category.value_counts()"
   ]
  },
  {
   "cell_type": "code",
   "execution_count": 15,
   "metadata": {},
   "outputs": [
    {
     "data": {
      "text/html": [
       "<div>\n",
       "<style scoped>\n",
       "    .dataframe tbody tr th:only-of-type {\n",
       "        vertical-align: middle;\n",
       "    }\n",
       "\n",
       "    .dataframe tbody tr th {\n",
       "        vertical-align: top;\n",
       "    }\n",
       "\n",
       "    .dataframe thead th {\n",
       "        text-align: right;\n",
       "    }\n",
       "</style>\n",
       "<table border=\"1\" class=\"dataframe\">\n",
       "  <thead>\n",
       "    <tr style=\"text-align: right;\">\n",
       "      <th></th>\n",
       "      <th>Category</th>\n",
       "      <th>Case No.</th>\n",
       "    </tr>\n",
       "  </thead>\n",
       "  <tbody>\n",
       "    <tr>\n",
       "      <th>0</th>\n",
       "      <td>LARCENY/THEFT</td>\n",
       "      <td>1566</td>\n",
       "    </tr>\n",
       "    <tr>\n",
       "      <th>1</th>\n",
       "      <td>OTHER OFFENSES</td>\n",
       "      <td>1476</td>\n",
       "    </tr>\n",
       "    <tr>\n",
       "      <th>2</th>\n",
       "      <td>NON-CRIMINAL</td>\n",
       "      <td>1242</td>\n",
       "    </tr>\n",
       "    <tr>\n",
       "      <th>3</th>\n",
       "      <td>ASSAULT</td>\n",
       "      <td>1075</td>\n",
       "    </tr>\n",
       "    <tr>\n",
       "      <th>4</th>\n",
       "      <td>WARRANTS</td>\n",
       "      <td>555</td>\n",
       "    </tr>\n",
       "    <tr>\n",
       "      <th>5</th>\n",
       "      <td>VEHICLE THEFT</td>\n",
       "      <td>529</td>\n",
       "    </tr>\n",
       "    <tr>\n",
       "      <th>6</th>\n",
       "      <td>VANDALISM</td>\n",
       "      <td>475</td>\n",
       "    </tr>\n",
       "    <tr>\n",
       "      <th>7</th>\n",
       "      <td>BURGLARY</td>\n",
       "      <td>458</td>\n",
       "    </tr>\n",
       "    <tr>\n",
       "      <th>8</th>\n",
       "      <td>SUSPICIOUS OCC</td>\n",
       "      <td>443</td>\n",
       "    </tr>\n",
       "    <tr>\n",
       "      <th>9</th>\n",
       "      <td>DRUG/NARCOTIC</td>\n",
       "      <td>396</td>\n",
       "    </tr>\n",
       "  </tbody>\n",
       "</table>\n",
       "</div>"
      ],
      "text/plain": [
       "         Category  Case No.\n",
       "0   LARCENY/THEFT      1566\n",
       "1  OTHER OFFENSES      1476\n",
       "2    NON-CRIMINAL      1242\n",
       "3         ASSAULT      1075\n",
       "4        WARRANTS       555\n",
       "5   VEHICLE THEFT       529\n",
       "6       VANDALISM       475\n",
       "7        BURGLARY       458\n",
       "8  SUSPICIOUS OCC       443\n",
       "9   DRUG/NARCOTIC       396"
      ]
     },
     "execution_count": 15,
     "metadata": {},
     "output_type": "execute_result"
    }
   ],
   "source": [
    "category_count=df.Category.value_counts().head(10).reset_index()\n",
    "category_count.columns=['Category','Case No.']\n",
    "category_count\n"
   ]
  },
  {
   "cell_type": "code",
   "execution_count": 16,
   "metadata": {},
   "outputs": [
    {
     "data": {
      "text/plain": [
       "<AxesSubplot: ylabel='Case No.'>"
      ]
     },
     "execution_count": 16,
     "metadata": {},
     "output_type": "execute_result"
    },
    {
     "data": {
      "image/png": "[encoded data removed]",
      "text/plain": [
       "<Figure size 640x480 with 1 Axes>"
      ]
     },
     "metadata": {},
     "output_type": "display_data"
    }
   ],
   "source": [
    "category_count['Case No.'].head().plot.pie(autopct='%1.f%%', x ='Category')"
   ]
  },
  {
   "cell_type": "code",
   "execution_count": 18,
   "metadata": {},
   "outputs": [
    {
     "data": {
      "application/vnd.plotly.v1+json": {
       "config": {
        "plotlyServerURL": "https://plot.ly"
       },
       "data": [
        {
         "domain": {
          "x": [
           0,
           1
          ],
          "y": [
           0,
           1
          ]
         },
         "hovertemplate": "Category=%{label}<br>Case No.=%{value}<extra></extra>",
         "labels": [
          "LARCENY/THEFT",
          "OTHER OFFENSES",
          "NON-CRIMINAL",
          "ASSAULT",
          "WARRANTS",
          "VEHICLE THEFT",
          "VANDALISM",
          "BURGLARY",
          "SUSPICIOUS OCC",
          "DRUG/NARCOTIC"
         ],
         "legendgroup": "",
         "name": "",
         "showlegend": true,
         "type": "pie",
         "values": [
          1566,
          1476,
          1242,
          1075,
          555,
          529,
          475,
          458,
          443,
          396
         ]
        }
       ],
       "layout": {
        "legend": {
         "tracegroupgap": 0
        },
        "margin": {
         "t": 60
        },
        "template": {
         "data": {
          "bar": [
           {
            "error_x": {
             "color": "#2a3f5f"
            },
            "error_y": {
             "color": "#2a3f5f"
            },
            "marker": {
             "line": {
              "color": "#E5ECF6",
              "width": 0.5
             },
             "pattern": {
              "fillmode": "overlay",
              "size": 10,
              "solidity": 0.2
             }
            },
            "type": "bar"
           }
          ],
          "barpolar": [
           {
            "marker": {
             "line": {
              "color": "#E5ECF6",
              "width": 0.5
             },
             "pattern": {
              "fillmode": "overlay",
              "size": 10,
              "solidity": 0.2
             }
            },
            "type": "barpolar"
           }
          ],
          "carpet": [
           {
            "aaxis": {
             "endlinecolor": "#2a3f5f",
             "gridcolor": "white",
             "linecolor": "white",
             "minorgridcolor": "white",
             "startlinecolor": "#2a3f5f"
            },
            "baxis": {
             "endlinecolor": "#2a3f5f",
             "gridcolor": "white",
             "linecolor": "white",
             "minorgridcolor": "white",
             "startlinecolor": "#2a3f5f"
            },
            "type": "carpet"
           }
          ],
          "choropleth": [
           {
            "colorbar": {
             "outlinewidth": 0,
             "ticks": ""
            },
            "type": "choropleth"
           }
          ],
          "contour": [
           {
            "colorbar": {
             "outlinewidth": 0,
             "ticks": ""
            },
            "colorscale": [
             [
              0,
              "#0d0887"
             ],
             [
              0.1111111111111111,
              "#46039f"
             ],
             [
              0.2222222222222222,
              "#7201a8"
             ],
             [
              0.3333333333333333,
              "#9c179e"
             ],
             [
              0.4444444444444444,
              "#bd3786"
             ],
             [
              0.5555555555555556,
              "#d8576b"
             ],
             [
              0.6666666666666666,
              "#ed7953"
             ],
             [
              0.7777777777777778,
              "#fb9f3a"
             ],
             [
              0.8888888888888888,
              "#fdca26"
             ],
             [
              1,
              "#f0f921"
             ]
            ],
            "type": "contour"
           }
          ],
          "contourcarpet": [
           {
            "colorbar": {
             "outlinewidth": 0,
             "ticks": ""
            },
            "type": "contourcarpet"
           }
          ],
          "heatmap": [
           {
            "colorbar": {
             "outlinewidth": 0,
             "ticks": ""
            },
            "colorscale": [
             [
              0,
              "#0d0887"
             ],
             [
              0.1111111111111111,
              "#46039f"
             ],
             [
              0.2222222222222222,
              "#7201a8"
             ],
             [
              0.3333333333333333,
              "#9c179e"
             ],
             [
              0.4444444444444444,
              "#bd3786"
             ],
             [
              0.5555555555555556,
              "#d8576b"
             ],
             [
              0.6666666666666666,
              "#ed7953"
             ],
             [
              0.7777777777777778,
              "#fb9f3a"
             ],
             [
              0.8888888888888888,
              "#fdca26"
             ],
             [
              1,
              "#f0f921"
             ]
            ],
            "type": "heatmap"
           }
          ],
          "heatmapgl": [
           {
            "colorbar": {
             "outlinewidth": 0,
             "ticks": ""
            },
            "colorscale": [
             [
              0,
              "#0d0887"
             ],
             [
              0.1111111111111111,
              "#46039f"
             ],
             [
              0.2222222222222222,
              "#7201a8"
             ],
             [
              0.3333333333333333,
              "#9c179e"
             ],
             [
              0.4444444444444444,
              "#bd3786"
             ],
             [
              0.5555555555555556,
              "#d8576b"
             ],
             [
              0.6666666666666666,
              "#ed7953"
             ],
             [
              0.7777777777777778,
              "#fb9f3a"
             ],
             [
              0.8888888888888888,
              "#fdca26"
             ],
             [
              1,
              "#f0f921"
             ]
            ],
            "type": "heatmapgl"
           }
          ],
          "histogram": [
           {
            "marker": {
             "pattern": {
              "fillmode": "overlay",
              "size": 10,
              "solidity": 0.2
             }
            },
            "type": "histogram"
           }
          ],
          "histogram2d": [
           {
            "colorbar": {
             "outlinewidth": 0,
             "ticks": ""
            },
            "colorscale": [
             [
              0,
              "#0d0887"
             ],
             [
              0.1111111111111111,
              "#46039f"
             ],
             [
              0.2222222222222222,
              "#7201a8"
             ],
             [
              0.3333333333333333,
              "#9c179e"
             ],
             [
              0.4444444444444444,
              "#bd3786"
             ],
             [
              0.5555555555555556,
              "#d8576b"
             ],
             [
              0.6666666666666666,
              "#ed7953"
             ],
             [
              0.7777777777777778,
              "#fb9f3a"
             ],
             [
              0.8888888888888888,
              "#fdca26"
             ],
             [
              1,
              "#f0f921"
             ]
            ],
            "type": "histogram2d"
           }
          ],
          "histogram2dcontour": [
           {
            "colorbar": {
             "outlinewidth": 0,
             "ticks": ""
            },
            "colorscale": [
             [
              0,
              "#0d0887"
             ],
             [
              0.1111111111111111,
              "#46039f"
             ],
             [
              0.2222222222222222,
              "#7201a8"
             ],
             [
              0.3333333333333333,
              "#9c179e"
             ],
             [
              0.4444444444444444,
              "#bd3786"
             ],
             [
              0.5555555555555556,
              "#d8576b"
             ],
             [
              0.6666666666666666,
              "#ed7953"
             ],
             [
              0.7777777777777778,
              "#fb9f3a"
             ],
             [
              0.8888888888888888,
              "#fdca26"
             ],
             [
              1,
              "#f0f921"
             ]
            ],
            "type": "histogram2dcontour"
           }
          ],
          "mesh3d": [
           {
            "colorbar": {
             "outlinewidth": 0,
             "ticks": ""
            },
            "type": "mesh3d"
           }
          ],
          "parcoords": [
           {
            "line": {
             "colorbar": {
              "outlinewidth": 0,
              "ticks": ""
             }
            },
            "type": "parcoords"
           }
          ],
          "pie": [
           {
            "automargin": true,
            "type": "pie"
           }
          ],
          "scatter": [
           {
            "fillpattern": {
             "fillmode": "overlay",
             "size": 10,
             "solidity": 0.2
            },
            "type": "scatter"
           }
          ],
          "scatter3d": [
           {
            "line": {
             "colorbar": {
              "outlinewidth": 0,
              "ticks": ""
             }
            },
            "marker": {
             "colorbar": {
              "outlinewidth": 0,
              "ticks": ""
             }
            },
            "type": "scatter3d"
           }
          ],
          "scattercarpet": [
           {
            "marker": {
             "colorbar": {
              "outlinewidth": 0,
              "ticks": ""
             }
            },
            "type": "scattercarpet"
           }
          ],
          "scattergeo": [
           {
            "marker": {
             "colorbar": {
              "outlinewidth": 0,
              "ticks": ""
             }
            },
            "type": "scattergeo"
           }
          ],
          "scattergl": [
           {
            "marker": {
             "colorbar": {
              "outlinewidth": 0,
              "ticks": ""
             }
            },
            "type": "scattergl"
           }
          ],
          "scattermapbox": [
           {
            "marker": {
             "colorbar": {
              "outlinewidth": 0,
              "ticks": ""
             }
            },
            "type": "scattermapbox"
           }
          ],
          "scatterpolar": [
           {
            "marker": {
             "colorbar": {
              "outlinewidth": 0,
              "ticks": ""
             }
            },
            "type": "scatterpolar"
           }
          ],
          "scatterpolargl": [
           {
            "marker": {
             "colorbar": {
              "outlinewidth": 0,
              "ticks": ""
             }
            },
            "type": "scatterpolargl"
           }
          ],
          "scatterternary": [
           {
            "marker": {
             "colorbar": {
              "outlinewidth": 0,
              "ticks": ""
             }
            },
            "type": "scatterternary"
           }
          ],
          "surface": [
           {
            "colorbar": {
             "outlinewidth": 0,
             "ticks": ""
            },
            "colorscale": [
             [
              0,
              "#0d0887"
             ],
             [
              0.1111111111111111,
              "#46039f"
             ],
             [
              0.2222222222222222,
              "#7201a8"
             ],
             [
              0.3333333333333333,
              "#9c179e"
             ],
             [
              0.4444444444444444,
              "#bd3786"
             ],
             [
              0.5555555555555556,
              "#d8576b"
             ],
             [
              0.6666666666666666,
              "#ed7953"
             ],
             [
              0.7777777777777778,
              "#fb9f3a"
             ],
             [
              0.8888888888888888,
              "#fdca26"
             ],
             [
              1,
              "#f0f921"
             ]
            ],
            "type": "surface"
           }
          ],
          "table": [
           {
            "cells": {
             "fill": {
              "color": "#EBF0F8"
             },
             "line": {
              "color": "white"
             }
            },
            "header": {
             "fill": {
              "color": "#C8D4E3"
             },
             "line": {
              "color": "white"
             }
            },
            "type": "table"
           }
          ]
         },
         "layout": {
          "annotationdefaults": {
           "arrowcolor": "#2a3f5f",
           "arrowhead": 0,
           "arrowwidth": 1
          },
          "autotypenumbers": "strict",
          "coloraxis": {
           "colorbar": {
            "outlinewidth": 0,
            "ticks": ""
           }
          },
          "colorscale": {
           "diverging": [
            [
             0,
             "#8e0152"
            ],
            [
             0.1,
             "#c51b7d"
            ],
            [
             0.2,
             "#de77ae"
            ],
            [
             0.3,
             "#f1b6da"
            ],
            [
             0.4,
             "#fde0ef"
            ],
            [
             0.5,
             "#f7f7f7"
            ],
            [
             0.6,
             "#e6f5d0"
            ],
            [
             0.7,
             "#b8e186"
            ],
            [
             0.8,
             "#7fbc41"
            ],
            [
             0.9,
             "#4d9221"
            ],
            [
             1,
             "#276419"
            ]
           ],
           "sequential": [
            [
             0,
             "#0d0887"
            ],
            [
             0.1111111111111111,
             "#46039f"
            ],
            [
             0.2222222222222222,
             "#7201a8"
            ],
            [
             0.3333333333333333,
             "#9c179e"
            ],
            [
             0.4444444444444444,
             "#bd3786"
            ],
            [
             0.5555555555555556,
             "#d8576b"
            ],
            [
             0.6666666666666666,
             "#ed7953"
            ],
            [
             0.7777777777777778,
             "#fb9f3a"
            ],
            [
             0.8888888888888888,
             "#fdca26"
            ],
            [
             1,
             "#f0f921"
            ]
           ],
           "sequentialminus": [
            [
             0,
             "#0d0887"
            ],
            [
             0.1111111111111111,
             "#46039f"
            ],
            [
             0.2222222222222222,
             "#7201a8"
            ],
            [
             0.3333333333333333,
             "#9c179e"
            ],
            [
             0.4444444444444444,
             "#bd3786"
            ],
            [
             0.5555555555555556,
             "#d8576b"
            ],
            [
             0.6666666666666666,
             "#ed7953"
            ],
            [
             0.7777777777777778,
             "#fb9f3a"
            ],
            [
             0.8888888888888888,
             "#fdca26"
            ],
            [
             1,
             "#f0f921"
            ]
           ]
          },
          "colorway": [
           "#636efa",
           "#EF553B",
           "#00cc96",
           "#ab63fa",
           "#FFA15A",
           "#19d3f3",
           "#FF6692",
           "#B6E880",
           "#FF97FF",
           "#FECB52"
          ],
          "font": {
           "color": "#2a3f5f"
          },
          "geo": {
           "bgcolor": "white",
           "lakecolor": "white",
           "landcolor": "#E5ECF6",
           "showlakes": true,
           "showland": true,
           "subunitcolor": "white"
          },
          "hoverlabel": {
           "align": "left"
          },
          "hovermode": "closest",
          "mapbox": {
           "style": "light"
          },
          "paper_bgcolor": "white",
          "plot_bgcolor": "#E5ECF6",
          "polar": {
           "angularaxis": {
            "gridcolor": "white",
            "linecolor": "white",
            "ticks": ""
           },
           "bgcolor": "#E5ECF6",
           "radialaxis": {
            "gridcolor": "white",
            "linecolor": "white",
            "ticks": ""
           }
          },
          "scene": {
           "xaxis": {
            "backgroundcolor": "#E5ECF6",
            "gridcolor": "white",
            "gridwidth": 2,
            "linecolor": "white",
            "showbackground": true,
            "ticks": "",
            "zerolinecolor": "white"
           },
           "yaxis": {
            "backgroundcolor": "#E5ECF6",
            "gridcolor": "white",
            "gridwidth": 2,
            "linecolor": "white",
            "showbackground": true,
            "ticks": "",
            "zerolinecolor": "white"
           },
           "zaxis": {
            "backgroundcolor": "#E5ECF6",
            "gridcolor": "white",
            "gridwidth": 2,
            "linecolor": "white",
            "showbackground": true,
            "ticks": "",
            "zerolinecolor": "white"
           }
          },
          "shapedefaults": {
           "line": {
            "color": "#2a3f5f"
           }
          },
          "ternary": {
           "aaxis": {
            "gridcolor": "white",
            "linecolor": "white",
            "ticks": ""
           },
           "baxis": {
            "gridcolor": "white",
            "linecolor": "white",
            "ticks": ""
           },
           "bgcolor": "#E5ECF6",
           "caxis": {
            "gridcolor": "white",
            "linecolor": "white",
            "ticks": ""
           }
          },
          "title": {
           "x": 0.05
          },
          "xaxis": {
           "automargin": true,
           "gridcolor": "white",
           "linecolor": "white",
           "ticks": "",
           "title": {
            "standoff": 15
           },
           "zerolinecolor": "white",
           "zerolinewidth": 2
          },
          "yaxis": {
           "automargin": true,
           "gridcolor": "white",
           "linecolor": "white",
           "ticks": "",
           "title": {
            "standoff": 15
           },
           "zerolinecolor": "white",
           "zerolinewidth": 2
          }
         }
        }
       }
      }
     },
     "metadata": {},
     "output_type": "display_data"
    }
   ],
   "source": [
    "category_count_top_10 = category_count.head(10)\n",
    "px.pie(category_count, 'Category','Case No.')"
   ]
  },
  {
   "cell_type": "markdown",
   "metadata": {},
   "source": [
    "find the most common way of handling incidents by the PD, in SanFrancisco using visualization"
   ]
  },
  {
   "cell_type": "code",
   "execution_count": 22,
   "metadata": {},
   "outputs": [],
   "source": [
    "# df.drop(df[df.Resolution=='NONE'].index)"
   ]
  },
  {
   "cell_type": "code",
   "execution_count": 32,
   "metadata": {},
   "outputs": [
    {
     "data": {
      "text/plain": [
       "OTHER OFFENSES     32\n",
       "LARCENY/THEFT      25\n",
       "ASSAULT            18\n",
       "NON-CRIMINAL       16\n",
       "VEHICLE THEFT      12\n",
       "VANDALISM          12\n",
       "DRUG/NARCOTIC      10\n",
       "SUSPICIOUS OCC     10\n",
       "BURGLARY            9\n",
       "WARRANTS            8\n",
       "MISSING PERSON      7\n",
       "WEAPON LAWS         6\n",
       "ROBBERY             5\n",
       "SECONDARY CODES     5\n",
       "PROSTITUTION        4\n",
       "TRESPASS            2\n",
       "FRAUD               1\n",
       "Name: Category, dtype: int64"
      ]
     },
     "execution_count": 32,
     "metadata": {},
     "output_type": "execute_result"
    }
   ],
   "source": [
    "month = df[df.Date.dt.month == 10].Category.value_counts()\n",
    "month"
   ]
  },
  {
   "cell_type": "code",
   "execution_count": 38,
   "metadata": {},
   "outputs": [
    {
     "data": {
      "text/plain": [
       "<AxesSubplot: ylabel='Category'>"
      ]
     },
     "execution_count": 38,
     "metadata": {},
     "output_type": "execute_result"
    },
    {
     "data": {
      "image/png": "[encoded data removed]",
      "text/plain": [
       "<Figure size 640x480 with 1 Axes>"
      ]
     },
     "metadata": {},
     "output_type": "display_data"
    }
   ],
   "source": [
    "month.plot.pie()"
   ]
  },
  {
   "cell_type": "markdown",
   "metadata": {},
   "source": [
    "group incident categories by month"
   ]
  },
  {
   "cell_type": "code",
   "execution_count": 41,
   "metadata": {},
   "outputs": [
    {
     "data": {
      "text/html": [
       "<div>\n",
       "<style scoped>\n",
       "    .dataframe tbody tr th:only-of-type {\n",
       "        vertical-align: middle;\n",
       "    }\n",
       "\n",
       "    .dataframe tbody tr th {\n",
       "        vertical-align: top;\n",
       "    }\n",
       "\n",
       "    .dataframe thead th {\n",
       "        text-align: right;\n",
       "    }\n",
       "</style>\n",
       "<table border=\"1\" class=\"dataframe\">\n",
       "  <thead>\n",
       "    <tr style=\"text-align: right;\">\n",
       "      <th></th>\n",
       "      <th>Month</th>\n",
       "      <th>Case Count</th>\n",
       "    </tr>\n",
       "  </thead>\n",
       "  <tbody>\n",
       "    <tr>\n",
       "      <th>0</th>\n",
       "      <td>1</td>\n",
       "      <td>2097</td>\n",
       "    </tr>\n",
       "    <tr>\n",
       "      <th>1</th>\n",
       "      <td>2</td>\n",
       "      <td>2387</td>\n",
       "    </tr>\n",
       "    <tr>\n",
       "      <th>2</th>\n",
       "      <td>3</td>\n",
       "      <td>3361</td>\n",
       "    </tr>\n",
       "    <tr>\n",
       "      <th>3</th>\n",
       "      <td>4</td>\n",
       "      <td>1334</td>\n",
       "    </tr>\n",
       "    <tr>\n",
       "      <th>4</th>\n",
       "      <td>5</td>\n",
       "      <td>82</td>\n",
       "    </tr>\n",
       "    <tr>\n",
       "      <th>5</th>\n",
       "      <td>6</td>\n",
       "      <td>111</td>\n",
       "    </tr>\n",
       "    <tr>\n",
       "      <th>6</th>\n",
       "      <td>7</td>\n",
       "      <td>149</td>\n",
       "    </tr>\n",
       "    <tr>\n",
       "      <th>7</th>\n",
       "      <td>8</td>\n",
       "      <td>160</td>\n",
       "    </tr>\n",
       "    <tr>\n",
       "      <th>8</th>\n",
       "      <td>9</td>\n",
       "      <td>138</td>\n",
       "    </tr>\n",
       "    <tr>\n",
       "      <th>9</th>\n",
       "      <td>10</td>\n",
       "      <td>182</td>\n",
       "    </tr>\n",
       "    <tr>\n",
       "      <th>10</th>\n",
       "      <td>11</td>\n",
       "      <td>13</td>\n",
       "    </tr>\n",
       "    <tr>\n",
       "      <th>11</th>\n",
       "      <td>12</td>\n",
       "      <td>5</td>\n",
       "    </tr>\n",
       "  </tbody>\n",
       "</table>\n",
       "</div>"
      ],
      "text/plain": [
       "    Month  Case Count\n",
       "0       1        2097\n",
       "1       2        2387\n",
       "2       3        3361\n",
       "3       4        1334\n",
       "4       5          82\n",
       "5       6         111\n",
       "6       7         149\n",
       "7       8         160\n",
       "8       9         138\n",
       "9      10         182\n",
       "10     11          13\n",
       "11     12           5"
      ]
     },
     "execution_count": 41,
     "metadata": {},
     "output_type": "execute_result"
    }
   ],
   "source": [
    "month_wise_cases = df.groupby(df.Date.dt.month)['Category'].count().reset_index()\n",
    "month_wise_cases.columns= ['Month','Case Count']\n",
    "month_wise_cases"
   ]
  },
  {
   "cell_type": "code",
   "execution_count": 42,
   "metadata": {},
   "outputs": [
    {
     "data": {
      "application/vnd.plotly.v1+json": {
       "config": {
        "plotlyServerURL": "https://plot.ly"
       },
       "data": [
        {
         "alignmentgroup": "True",
         "hovertemplate": "Month=%{x}<br>Case Count=%{y}<extra></extra>",
         "legendgroup": "",
         "marker": {
          "color": "#636efa",
          "pattern": {
           "shape": ""
          }
         },
         "name": "",
         "offsetgroup": "",
         "orientation": "v",
         "showlegend": false,
         "textposition": "auto",
         "type": "bar",
         "x": [
          1,
          2,
          3,
          4,
          5,
          6,
          7,
          8,
          9,
          10,
          11,
          12
         ],
         "xaxis": "x",
         "y": [
          2097,
          2387,
          3361,
          1334,
          82,
          111,
          149,
          160,
          138,
          182,
          13,
          5
         ],
         "yaxis": "y"
        }
       ],
       "layout": {
        "barmode": "relative",
        "legend": {
         "tracegroupgap": 0
        },
        "margin": {
         "t": 60
        },
        "template": {
         "data": {
          "bar": [
           {
            "error_x": {
             "color": "#2a3f5f"
            },
            "error_y": {
             "color": "#2a3f5f"
            },
            "marker": {
             "line": {
              "color": "#E5ECF6",
              "width": 0.5
             },
             "pattern": {
              "fillmode": "overlay",
              "size": 10,
              "solidity": 0.2
             }
            },
            "type": "bar"
           }
          ],
          "barpolar": [
           {
            "marker": {
             "line": {
              "color": "#E5ECF6",
              "width": 0.5
             },
             "pattern": {
              "fillmode": "overlay",
              "size": 10,
              "solidity": 0.2
             }
            },
            "type": "barpolar"
           }
          ],
          "carpet": [
           {
            "aaxis": {
             "endlinecolor": "#2a3f5f",
             "gridcolor": "white",
             "linecolor": "white",
             "minorgridcolor": "white",
             "startlinecolor": "#2a3f5f"
            },
            "baxis": {
             "endlinecolor": "#2a3f5f",
             "gridcolor": "white",
             "linecolor": "white",
             "minorgridcolor": "white",
             "startlinecolor": "#2a3f5f"
            },
            "type": "carpet"
           }
          ],
          "choropleth": [
           {
            "colorbar": {
             "outlinewidth": 0,
             "ticks": ""
            },
            "type": "choropleth"
           }
          ],
          "contour": [
           {
            "colorbar": {
             "outlinewidth": 0,
             "ticks": ""
            },
            "colorscale": [
             [
              0,
              "#0d0887"
             ],
             [
              0.1111111111111111,
              "#46039f"
             ],
             [
              0.2222222222222222,
              "#7201a8"
             ],
             [
              0.3333333333333333,
              "#9c179e"
             ],
             [
              0.4444444444444444,
              "#bd3786"
             ],
             [
              0.5555555555555556,
              "#d8576b"
             ],
             [
              0.6666666666666666,
              "#ed7953"
             ],
             [
              0.7777777777777778,
              "#fb9f3a"
             ],
             [
              0.8888888888888888,
              "#fdca26"
             ],
             [
              1,
              "#f0f921"
             ]
            ],
            "type": "contour"
           }
          ],
          "contourcarpet": [
           {
            "colorbar": {
             "outlinewidth": 0,
             "ticks": ""
            },
            "type": "contourcarpet"
           }
          ],
          "heatmap": [
           {
            "colorbar": {
             "outlinewidth": 0,
             "ticks": ""
            },
            "colorscale": [
             [
              0,
              "#0d0887"
             ],
             [
              0.1111111111111111,
              "#46039f"
             ],
             [
              0.2222222222222222,
              "#7201a8"
             ],
             [
              0.3333333333333333,
              "#9c179e"
             ],
             [
              0.4444444444444444,
              "#bd3786"
             ],
             [
              0.5555555555555556,
              "#d8576b"
             ],
             [
              0.6666666666666666,
              "#ed7953"
             ],
             [
              0.7777777777777778,
              "#fb9f3a"
             ],
             [
              0.8888888888888888,
              "#fdca26"
             ],
             [
              1,
              "#f0f921"
             ]
            ],
            "type": "heatmap"
           }
          ],
          "heatmapgl": [
           {
            "colorbar": {
             "outlinewidth": 0,
             "ticks": ""
            },
            "colorscale": [
             [
              0,
              "#0d0887"
             ],
             [
              0.1111111111111111,
              "#46039f"
             ],
             [
              0.2222222222222222,
              "#7201a8"
             ],
             [
              0.3333333333333333,
              "#9c179e"
             ],
             [
              0.4444444444444444,
              "#bd3786"
             ],
             [
              0.5555555555555556,
              "#d8576b"
             ],
             [
              0.6666666666666666,
              "#ed7953"
             ],
             [
              0.7777777777777778,
              "#fb9f3a"
             ],
             [
              0.8888888888888888,
              "#fdca26"
             ],
             [
              1,
              "#f0f921"
             ]
            ],
            "type": "heatmapgl"
           }
          ],
          "histogram": [
           {
            "marker": {
             "pattern": {
              "fillmode": "overlay",
              "size": 10,
              "solidity": 0.2
             }
            },
            "type": "histogram"
           }
          ],
          "histogram2d": [
           {
            "colorbar": {
             "outlinewidth": 0,
             "ticks": ""
            },
            "colorscale": [
             [
              0,
              "#0d0887"
             ],
             [
              0.1111111111111111,
              "#46039f"
             ],
             [
              0.2222222222222222,
              "#7201a8"
             ],
             [
              0.3333333333333333,
              "#9c179e"
             ],
             [
              0.4444444444444444,
              "#bd3786"
             ],
             [
              0.5555555555555556,
              "#d8576b"
             ],
             [
              0.6666666666666666,
              "#ed7953"
             ],
             [
              0.7777777777777778,
              "#fb9f3a"
             ],
             [
              0.8888888888888888,
              "#fdca26"
             ],
             [
              1,
              "#f0f921"
             ]
            ],
            "type": "histogram2d"
           }
          ],
          "histogram2dcontour": [
           {
            "colorbar": {
             "outlinewidth": 0,
             "ticks": ""
            },
            "colorscale": [
             [
              0,
              "#0d0887"
             ],
             [
              0.1111111111111111,
              "#46039f"
             ],
             [
              0.2222222222222222,
              "#7201a8"
             ],
             [
              0.3333333333333333,
              "#9c179e"
             ],
             [
              0.4444444444444444,
              "#bd3786"
             ],
             [
              0.5555555555555556,
              "#d8576b"
             ],
             [
              0.6666666666666666,
              "#ed7953"
             ],
             [
              0.7777777777777778,
              "#fb9f3a"
             ],
             [
              0.8888888888888888,
              "#fdca26"
             ],
             [
              1,
              "#f0f921"
             ]
            ],
            "type": "histogram2dcontour"
           }
          ],
          "mesh3d": [
           {
            "colorbar": {
             "outlinewidth": 0,
             "ticks": ""
            },
            "type": "mesh3d"
           }
          ],
          "parcoords": [
           {
            "line": {
             "colorbar": {
              "outlinewidth": 0,
              "ticks": ""
             }
            },
            "type": "parcoords"
           }
          ],
          "pie": [
           {
            "automargin": true,
            "type": "pie"
           }
          ],
          "scatter": [
           {
            "fillpattern": {
             "fillmode": "overlay",
             "size": 10,
             "solidity": 0.2
            },
            "type": "scatter"
           }
          ],
          "scatter3d": [
           {
            "line": {
             "colorbar": {
              "outlinewidth": 0,
              "ticks": ""
             }
            },
            "marker": {
             "colorbar": {
              "outlinewidth": 0,
              "ticks": ""
             }
            },
            "type": "scatter3d"
           }
          ],
          "scattercarpet": [
           {
            "marker": {
             "colorbar": {
              "outlinewidth": 0,
              "ticks": ""
             }
            },
            "type": "scattercarpet"
           }
          ],
          "scattergeo": [
           {
            "marker": {
             "colorbar": {
              "outlinewidth": 0,
              "ticks": ""
             }
            },
            "type": "scattergeo"
           }
          ],
          "scattergl": [
           {
            "marker": {
             "colorbar": {
              "outlinewidth": 0,
              "ticks": ""
             }
            },
            "type": "scattergl"
           }
          ],
          "scattermapbox": [
           {
            "marker": {
             "colorbar": {
              "outlinewidth": 0,
              "ticks": ""
             }
            },
            "type": "scattermapbox"
           }
          ],
          "scatterpolar": [
           {
            "marker": {
             "colorbar": {
              "outlinewidth": 0,
              "ticks": ""
             }
            },
            "type": "scatterpolar"
           }
          ],
          "scatterpolargl": [
           {
            "marker": {
             "colorbar": {
              "outlinewidth": 0,
              "ticks": ""
             }
            },
            "type": "scatterpolargl"
           }
          ],
          "scatterternary": [
           {
            "marker": {
             "colorbar": {
              "outlinewidth": 0,
              "ticks": ""
             }
            },
            "type": "scatterternary"
           }
          ],
          "surface": [
           {
            "colorbar": {
             "outlinewidth": 0,
             "ticks": ""
            },
            "colorscale": [
             [
              0,
              "#0d0887"
             ],
             [
              0.1111111111111111,
              "#46039f"
             ],
             [
              0.2222222222222222,
              "#7201a8"
             ],
             [
              0.3333333333333333,
              "#9c179e"
             ],
             [
              0.4444444444444444,
              "#bd3786"
             ],
             [
              0.5555555555555556,
              "#d8576b"
             ],
             [
              0.6666666666666666,
              "#ed7953"
             ],
             [
              0.7777777777777778,
              "#fb9f3a"
             ],
             [
              0.8888888888888888,
              "#fdca26"
             ],
             [
              1,
              "#f0f921"
             ]
            ],
            "type": "surface"
           }
          ],
          "table": [
           {
            "cells": {
             "fill": {
              "color": "#EBF0F8"
             },
             "line": {
              "color": "white"
             }
            },
            "header": {
             "fill": {
              "color": "#C8D4E3"
             },
             "line": {
              "color": "white"
             }
            },
            "type": "table"
           }
          ]
         },
         "layout": {
          "annotationdefaults": {
           "arrowcolor": "#2a3f5f",
           "arrowhead": 0,
           "arrowwidth": 1
          },
          "autotypenumbers": "strict",
          "coloraxis": {
           "colorbar": {
            "outlinewidth": 0,
            "ticks": ""
           }
          },
          "colorscale": {
           "diverging": [
            [
             0,
             "#8e0152"
            ],
            [
             0.1,
             "#c51b7d"
            ],
            [
             0.2,
             "#de77ae"
            ],
            [
             0.3,
             "#f1b6da"
            ],
            [
             0.4,
             "#fde0ef"
            ],
            [
             0.5,
             "#f7f7f7"
            ],
            [
             0.6,
             "#e6f5d0"
            ],
            [
             0.7,
             "#b8e186"
            ],
            [
             0.8,
             "#7fbc41"
            ],
            [
             0.9,
             "#4d9221"
            ],
            [
             1,
             "#276419"
            ]
           ],
           "sequential": [
            [
             0,
             "#0d0887"
            ],
            [
             0.1111111111111111,
             "#46039f"
            ],
            [
             0.2222222222222222,
             "#7201a8"
            ],
            [
             0.3333333333333333,
             "#9c179e"
            ],
            [
             0.4444444444444444,
             "#bd3786"
            ],
            [
             0.5555555555555556,
             "#d8576b"
            ],
            [
             0.6666666666666666,
             "#ed7953"
            ],
            [
             0.7777777777777778,
             "#fb9f3a"
            ],
            [
             0.8888888888888888,
             "#fdca26"
            ],
            [
             1,
             "#f0f921"
            ]
           ],
           "sequentialminus": [
            [
             0,
             "#0d0887"
            ],
            [
             0.1111111111111111,
             "#46039f"
            ],
            [
             0.2222222222222222,
             "#7201a8"
            ],
            [
             0.3333333333333333,
             "#9c179e"
            ],
            [
             0.4444444444444444,
             "#bd3786"
            ],
            [
             0.5555555555555556,
             "#d8576b"
            ],
            [
             0.6666666666666666,
             "#ed7953"
            ],
            [
             0.7777777777777778,
             "#fb9f3a"
            ],
            [
             0.8888888888888888,
             "#fdca26"
            ],
            [
             1,
             "#f0f921"
            ]
           ]
          },
          "colorway": [
           "#636efa",
           "#EF553B",
           "#00cc96",
           "#ab63fa",
           "#FFA15A",
           "#19d3f3",
           "#FF6692",
           "#B6E880",
           "#FF97FF",
           "#FECB52"
          ],
          "font": {
           "color": "#2a3f5f"
          },
          "geo": {
           "bgcolor": "white",
           "lakecolor": "white",
           "landcolor": "#E5ECF6",
           "showlakes": true,
           "showland": true,
           "subunitcolor": "white"
          },
          "hoverlabel": {
           "align": "left"
          },
          "hovermode": "closest",
          "mapbox": {
           "style": "light"
          },
          "paper_bgcolor": "white",
          "plot_bgcolor": "#E5ECF6",
          "polar": {
           "angularaxis": {
            "gridcolor": "white",
            "linecolor": "white",
            "ticks": ""
           },
           "bgcolor": "#E5ECF6",
           "radialaxis": {
            "gridcolor": "white",
            "linecolor": "white",
            "ticks": ""
           }
          },
          "scene": {
           "xaxis": {
            "backgroundcolor": "#E5ECF6",
            "gridcolor": "white",
            "gridwidth": 2,
            "linecolor": "white",
            "showbackground": true,
            "ticks": "",
            "zerolinecolor": "white"
           },
           "yaxis": {
            "backgroundcolor": "#E5ECF6",
            "gridcolor": "white",
            "gridwidth": 2,
            "linecolor": "white",
            "showbackground": true,
            "ticks": "",
            "zerolinecolor": "white"
           },
           "zaxis": {
            "backgroundcolor": "#E5ECF6",
            "gridcolor": "white",
            "gridwidth": 2,
            "linecolor": "white",
            "showbackground": true,
            "ticks": "",
            "zerolinecolor": "white"
           }
          },
          "shapedefaults": {
           "line": {
            "color": "#2a3f5f"
           }
          },
          "ternary": {
           "aaxis": {
            "gridcolor": "white",
            "linecolor": "white",
            "ticks": ""
           },
           "baxis": {
            "gridcolor": "white",
            "linecolor": "white",
            "ticks": ""
           },
           "bgcolor": "#E5ECF6",
           "caxis": {
            "gridcolor": "white",
            "linecolor": "white",
            "ticks": ""
           }
          },
          "title": {
           "x": 0.05
          },
          "xaxis": {
           "automargin": true,
           "gridcolor": "white",
           "linecolor": "white",
           "ticks": "",
           "title": {
            "standoff": 15
           },
           "zerolinecolor": "white",
           "zerolinewidth": 2
          },
          "yaxis": {
           "automargin": true,
           "gridcolor": "white",
           "linecolor": "white",
           "ticks": "",
           "title": {
            "standoff": 15
           },
           "zerolinecolor": "white",
           "zerolinewidth": 2
          }
         }
        },
        "xaxis": {
         "anchor": "y",
         "domain": [
          0,
          1
         ],
         "title": {
          "text": "Month"
         }
        },
        "yaxis": {
         "anchor": "x",
         "domain": [
          0,
          1
         ],
         "title": {
          "text": "Case Count"
         }
        }
       }
      }
     },
     "metadata": {},
     "output_type": "display_data"
    }
   ],
   "source": [
    "px.bar(month_wise_cases, 'Month', 'Case Count')"
   ]
  },
  {
   "cell_type": "code",
   "execution_count": 44,
   "metadata": {},
   "outputs": [],
   "source": [
    "def num_to_months(num):\n",
    "    months = ['jan','feb','mar','apr','may','jun','jul','aug','sep','oct','nov','dec']\n",
    "    return months[num-1]\n",
    "   "
   ]
  },
  {
   "cell_type": "code",
   "execution_count": 45,
   "metadata": {},
   "outputs": [],
   "source": [
    "month_wise_cases['Month'] = month_wise_cases['Month'].apply(num_to_months)"
   ]
  },
  {
   "cell_type": "code",
   "execution_count": 47,
   "metadata": {},
   "outputs": [
    {
     "data": {
      "application/vnd.plotly.v1+json": {
       "config": {
        "plotlyServerURL": "https://plot.ly"
       },
       "data": [
        {
         "alignmentgroup": "True",
         "hovertemplate": "Month=%{x}<br>Case Count=%{y}<extra></extra>",
         "legendgroup": "",
         "marker": {
          "color": "#636efa",
          "pattern": {
           "shape": ""
          }
         },
         "name": "",
         "offsetgroup": "",
         "orientation": "v",
         "showlegend": false,
         "textposition": "auto",
         "type": "bar",
         "x": [
          "jan",
          "feb",
          "mar",
          "apr",
          "may",
          "jun",
          "jul",
          "aug",
          "sep",
          "oct",
          "nov",
          "dec"
         ],
         "xaxis": "x",
         "y": [
          2097,
          2387,
          3361,
          1334,
          82,
          111,
          149,
          160,
          138,
          182,
          13,
          5
         ],
         "yaxis": "y"
        }
       ],
       "layout": {
        "barmode": "relative",
        "legend": {
         "tracegroupgap": 0
        },
        "margin": {
         "t": 60
        },
        "template": {
         "data": {
          "bar": [
           {
            "error_x": {
             "color": "#2a3f5f"
            },
            "error_y": {
             "color": "#2a3f5f"
            },
            "marker": {
             "line": {
              "color": "#E5ECF6",
              "width": 0.5
             },
             "pattern": {
              "fillmode": "overlay",
              "size": 10,
              "solidity": 0.2
             }
            },
            "type": "bar"
           }
          ],
          "barpolar": [
           {
            "marker": {
             "line": {
              "color": "#E5ECF6",
              "width": 0.5
             },
             "pattern": {
              "fillmode": "overlay",
              "size": 10,
              "solidity": 0.2
             }
            },
            "type": "barpolar"
           }
          ],
          "carpet": [
           {
            "aaxis": {
             "endlinecolor": "#2a3f5f",
             "gridcolor": "white",
             "linecolor": "white",
             "minorgridcolor": "white",
             "startlinecolor": "#2a3f5f"
            },
            "baxis": {
             "endlinecolor": "#2a3f5f",
             "gridcolor": "white",
             "linecolor": "white",
             "minorgridcolor": "white",
             "startlinecolor": "#2a3f5f"
            },
            "type": "carpet"
           }
          ],
          "choropleth": [
           {
            "colorbar": {
             "outlinewidth": 0,
             "ticks": ""
            },
            "type": "choropleth"
           }
          ],
          "contour": [
           {
            "colorbar": {
             "outlinewidth": 0,
             "ticks": ""
            },
            "colorscale": [
             [
              0,
              "#0d0887"
             ],
             [
              0.1111111111111111,
              "#46039f"
             ],
             [
              0.2222222222222222,
              "#7201a8"
             ],
             [
              0.3333333333333333,
              "#9c179e"
             ],
             [
              0.4444444444444444,
              "#bd3786"
             ],
             [
              0.5555555555555556,
              "#d8576b"
             ],
             [
              0.6666666666666666,
              "#ed7953"
             ],
             [
              0.7777777777777778,
              "#fb9f3a"
             ],
             [
              0.8888888888888888,
              "#fdca26"
             ],
             [
              1,
              "#f0f921"
             ]
            ],
            "type": "contour"
           }
          ],
          "contourcarpet": [
           {
            "colorbar": {
             "outlinewidth": 0,
             "ticks": ""
            },
            "type": "contourcarpet"
           }
          ],
          "heatmap": [
           {
            "colorbar": {
             "outlinewidth": 0,
             "ticks": ""
            },
            "colorscale": [
             [
              0,
              "#0d0887"
             ],
             [
              0.1111111111111111,
              "#46039f"
             ],
             [
              0.2222222222222222,
              "#7201a8"
             ],
             [
              0.3333333333333333,
              "#9c179e"
             ],
             [
              0.4444444444444444,
              "#bd3786"
             ],
             [
              0.5555555555555556,
              "#d8576b"
             ],
             [
              0.6666666666666666,
              "#ed7953"
             ],
             [
              0.7777777777777778,
              "#fb9f3a"
             ],
             [
              0.8888888888888888,
              "#fdca26"
             ],
             [
              1,
              "#f0f921"
             ]
            ],
            "type": "heatmap"
           }
          ],
          "heatmapgl": [
           {
            "colorbar": {
             "outlinewidth": 0,
             "ticks": ""
            },
            "colorscale": [
             [
              0,
              "#0d0887"
             ],
             [
              0.1111111111111111,
              "#46039f"
             ],
             [
              0.2222222222222222,
              "#7201a8"
             ],
             [
              0.3333333333333333,
              "#9c179e"
             ],
             [
              0.4444444444444444,
              "#bd3786"
             ],
             [
              0.5555555555555556,
              "#d8576b"
             ],
             [
              0.6666666666666666,
              "#ed7953"
             ],
             [
              0.7777777777777778,
              "#fb9f3a"
             ],
             [
              0.8888888888888888,
              "#fdca26"
             ],
             [
              1,
              "#f0f921"
             ]
            ],
            "type": "heatmapgl"
           }
          ],
          "histogram": [
           {
            "marker": {
             "pattern": {
              "fillmode": "overlay",
              "size": 10,
              "solidity": 0.2
             }
            },
            "type": "histogram"
           }
          ],
          "histogram2d": [
           {
            "colorbar": {
             "outlinewidth": 0,
             "ticks": ""
            },
            "colorscale": [
             [
              0,
              "#0d0887"
             ],
             [
              0.1111111111111111,
              "#46039f"
             ],
             [
              0.2222222222222222,
              "#7201a8"
             ],
             [
              0.3333333333333333,
              "#9c179e"
             ],
             [
              0.4444444444444444,
              "#bd3786"
             ],
             [
              0.5555555555555556,
              "#d8576b"
             ],
             [
              0.6666666666666666,
              "#ed7953"
             ],
             [
              0.7777777777777778,
              "#fb9f3a"
             ],
             [
              0.8888888888888888,
              "#fdca26"
             ],
             [
              1,
              "#f0f921"
             ]
            ],
            "type": "histogram2d"
           }
          ],
          "histogram2dcontour": [
           {
            "colorbar": {
             "outlinewidth": 0,
             "ticks": ""
            },
            "colorscale": [
             [
              0,
              "#0d0887"
             ],
             [
              0.1111111111111111,
              "#46039f"
             ],
             [
              0.2222222222222222,
              "#7201a8"
             ],
             [
              0.3333333333333333,
              "#9c179e"
             ],
             [
              0.4444444444444444,
              "#bd3786"
             ],
             [
              0.5555555555555556,
              "#d8576b"
             ],
             [
              0.6666666666666666,
              "#ed7953"
             ],
             [
              0.7777777777777778,
              "#fb9f3a"
             ],
             [
              0.8888888888888888,
              "#fdca26"
             ],
             [
              1,
              "#f0f921"
             ]
            ],
            "type": "histogram2dcontour"
           }
          ],
          "mesh3d": [
           {
            "colorbar": {
             "outlinewidth": 0,
             "ticks": ""
            },
            "type": "mesh3d"
           }
          ],
          "parcoords": [
           {
            "line": {
             "colorbar": {
              "outlinewidth": 0,
              "ticks": ""
             }
            },
            "type": "parcoords"
           }
          ],
          "pie": [
           {
            "automargin": true,
            "type": "pie"
           }
          ],
          "scatter": [
           {
            "fillpattern": {
             "fillmode": "overlay",
             "size": 10,
             "solidity": 0.2
            },
            "type": "scatter"
           }
          ],
          "scatter3d": [
           {
            "line": {
             "colorbar": {
              "outlinewidth": 0,
              "ticks": ""
             }
            },
            "marker": {
             "colorbar": {
              "outlinewidth": 0,
              "ticks": ""
             }
            },
            "type": "scatter3d"
           }
          ],
          "scattercarpet": [
           {
            "marker": {
             "colorbar": {
              "outlinewidth": 0,
              "ticks": ""
             }
            },
            "type": "scattercarpet"
           }
          ],
          "scattergeo": [
           {
            "marker": {
             "colorbar": {
              "outlinewidth": 0,
              "ticks": ""
             }
            },
            "type": "scattergeo"
           }
          ],
          "scattergl": [
           {
            "marker": {
             "colorbar": {
              "outlinewidth": 0,
              "ticks": ""
             }
            },
            "type": "scattergl"
           }
          ],
          "scattermapbox": [
           {
            "marker": {
             "colorbar": {
              "outlinewidth": 0,
              "ticks": ""
             }
            },
            "type": "scattermapbox"
           }
          ],
          "scatterpolar": [
           {
            "marker": {
             "colorbar": {
              "outlinewidth": 0,
              "ticks": ""
             }
            },
            "type": "scatterpolar"
           }
          ],
          "scatterpolargl": [
           {
            "marker": {
             "colorbar": {
              "outlinewidth": 0,
              "ticks": ""
             }
            },
            "type": "scatterpolargl"
           }
          ],
          "scatterternary": [
           {
            "marker": {
             "colorbar": {
              "outlinewidth": 0,
              "ticks": ""
             }
            },
            "type": "scatterternary"
           }
          ],
          "surface": [
           {
            "colorbar": {
             "outlinewidth": 0,
             "ticks": ""
            },
            "colorscale": [
             [
              0,
              "#0d0887"
             ],
             [
              0.1111111111111111,
              "#46039f"
             ],
             [
              0.2222222222222222,
              "#7201a8"
             ],
             [
              0.3333333333333333,
              "#9c179e"
             ],
             [
              0.4444444444444444,
              "#bd3786"
             ],
             [
              0.5555555555555556,
              "#d8576b"
             ],
             [
              0.6666666666666666,
              "#ed7953"
             ],
             [
              0.7777777777777778,
              "#fb9f3a"
             ],
             [
              0.8888888888888888,
              "#fdca26"
             ],
             [
              1,
              "#f0f921"
             ]
            ],
            "type": "surface"
           }
          ],
          "table": [
           {
            "cells": {
             "fill": {
              "color": "#EBF0F8"
             },
             "line": {
              "color": "white"
             }
            },
            "header": {
             "fill": {
              "color": "#C8D4E3"
             },
             "line": {
              "color": "white"
             }
            },
            "type": "table"
           }
          ]
         },
         "layout": {
          "annotationdefaults": {
           "arrowcolor": "#2a3f5f",
           "arrowhead": 0,
           "arrowwidth": 1
          },
          "autotypenumbers": "strict",
          "coloraxis": {
           "colorbar": {
            "outlinewidth": 0,
            "ticks": ""
           }
          },
          "colorscale": {
           "diverging": [
            [
             0,
             "#8e0152"
            ],
            [
             0.1,
             "#c51b7d"
            ],
            [
             0.2,
             "#de77ae"
            ],
            [
             0.3,
             "#f1b6da"
            ],
            [
             0.4,
             "#fde0ef"
            ],
            [
             0.5,
             "#f7f7f7"
            ],
            [
             0.6,
             "#e6f5d0"
            ],
            [
             0.7,
             "#b8e186"
            ],
            [
             0.8,
             "#7fbc41"
            ],
            [
             0.9,
             "#4d9221"
            ],
            [
             1,
             "#276419"
            ]
           ],
           "sequential": [
            [
             0,
             "#0d0887"
            ],
            [
             0.1111111111111111,
             "#46039f"
            ],
            [
             0.2222222222222222,
             "#7201a8"
            ],
            [
             0.3333333333333333,
             "#9c179e"
            ],
            [
             0.4444444444444444,
             "#bd3786"
            ],
            [
             0.5555555555555556,
             "#d8576b"
            ],
            [
             0.6666666666666666,
             "#ed7953"
            ],
            [
             0.7777777777777778,
             "#fb9f3a"
            ],
            [
             0.8888888888888888,
             "#fdca26"
            ],
            [
             1,
             "#f0f921"
            ]
           ],
           "sequentialminus": [
            [
             0,
             "#0d0887"
            ],
            [
             0.1111111111111111,
             "#46039f"
            ],
            [
             0.2222222222222222,
             "#7201a8"
            ],
            [
             0.3333333333333333,
             "#9c179e"
            ],
            [
             0.4444444444444444,
             "#bd3786"
            ],
            [
             0.5555555555555556,
             "#d8576b"
            ],
            [
             0.6666666666666666,
             "#ed7953"
            ],
            [
             0.7777777777777778,
             "#fb9f3a"
            ],
            [
             0.8888888888888888,
             "#fdca26"
            ],
            [
             1,
             "#f0f921"
            ]
           ]
          },
          "colorway": [
           "#636efa",
           "#EF553B",
           "#00cc96",
           "#ab63fa",
           "#FFA15A",
           "#19d3f3",
           "#FF6692",
           "#B6E880",
           "#FF97FF",
           "#FECB52"
          ],
          "font": {
           "color": "#2a3f5f"
          },
          "geo": {
           "bgcolor": "white",
           "lakecolor": "white",
           "landcolor": "#E5ECF6",
           "showlakes": true,
           "showland": true,
           "subunitcolor": "white"
          },
          "hoverlabel": {
           "align": "left"
          },
          "hovermode": "closest",
          "mapbox": {
           "style": "light"
          },
          "paper_bgcolor": "white",
          "plot_bgcolor": "#E5ECF6",
          "polar": {
           "angularaxis": {
            "gridcolor": "white",
            "linecolor": "white",
            "ticks": ""
           },
           "bgcolor": "#E5ECF6",
           "radialaxis": {
            "gridcolor": "white",
            "linecolor": "white",
            "ticks": ""
           }
          },
          "scene": {
           "xaxis": {
            "backgroundcolor": "#E5ECF6",
            "gridcolor": "white",
            "gridwidth": 2,
            "linecolor": "white",
            "showbackground": true,
            "ticks": "",
            "zerolinecolor": "white"
           },
           "yaxis": {
            "backgroundcolor": "#E5ECF6",
            "gridcolor": "white",
            "gridwidth": 2,
            "linecolor": "white",
            "showbackground": true,
            "ticks": "",
            "zerolinecolor": "white"
           },
           "zaxis": {
            "backgroundcolor": "#E5ECF6",
            "gridcolor": "white",
            "gridwidth": 2,
            "linecolor": "white",
            "showbackground": true,
            "ticks": "",
            "zerolinecolor": "white"
           }
          },
          "shapedefaults": {
           "line": {
            "color": "#2a3f5f"
           }
          },
          "ternary": {
           "aaxis": {
            "gridcolor": "white",
            "linecolor": "white",
            "ticks": ""
           },
           "baxis": {
            "gridcolor": "white",
            "linecolor": "white",
            "ticks": ""
           },
           "bgcolor": "#E5ECF6",
           "caxis": {
            "gridcolor": "white",
            "linecolor": "white",
            "ticks": ""
           }
          },
          "title": {
           "x": 0.05
          },
          "xaxis": {
           "automargin": true,
           "gridcolor": "white",
           "linecolor": "white",
           "ticks": "",
           "title": {
            "standoff": 15
           },
           "zerolinecolor": "white",
           "zerolinewidth": 2
          },
          "yaxis": {
           "automargin": true,
           "gridcolor": "white",
           "linecolor": "white",
           "ticks": "",
           "title": {
            "standoff": 15
           },
           "zerolinecolor": "white",
           "zerolinewidth": 2
          }
         }
        },
        "xaxis": {
         "anchor": "y",
         "domain": [
          0,
          1
         ],
         "title": {
          "text": "Month"
         }
        },
        "yaxis": {
         "anchor": "x",
         "domain": [
          0,
          1
         ],
         "title": {
          "text": "Case Count"
         }
        }
       }
      }
     },
     "metadata": {},
     "output_type": "display_data"
    }
   ],
   "source": [
    "px.bar(month_wise_cases, 'Month', 'Case Count')"
   ]
  },
  {
   "cell_type": "code",
   "execution_count": 48,
   "metadata": {},
   "outputs": [
    {
     "data": {
      "text/html": [
       "<div>\n",
       "<style scoped>\n",
       "    .dataframe tbody tr th:only-of-type {\n",
       "        vertical-align: middle;\n",
       "    }\n",
       "\n",
       "    .dataframe tbody tr th {\n",
       "        vertical-align: top;\n",
       "    }\n",
       "\n",
       "    .dataframe thead th {\n",
       "        text-align: right;\n",
       "    }\n",
       "</style>\n",
       "<table border=\"1\" class=\"dataframe\">\n",
       "  <thead>\n",
       "    <tr style=\"text-align: right;\">\n",
       "      <th></th>\n",
       "      <th>IncidntNum</th>\n",
       "      <th>Category</th>\n",
       "      <th>Descript</th>\n",
       "      <th>DayOfWeek</th>\n",
       "      <th>Date</th>\n",
       "      <th>Time</th>\n",
       "      <th>PdDistrict</th>\n",
       "      <th>Resolution</th>\n",
       "      <th>Address</th>\n",
       "      <th>X</th>\n",
       "      <th>Y</th>\n",
       "      <th>Location</th>\n",
       "      <th>PdId</th>\n",
       "    </tr>\n",
       "  </thead>\n",
       "  <tbody>\n",
       "    <tr>\n",
       "      <th>2467</th>\n",
       "      <td>150273337.0</td>\n",
       "      <td>WARRANTS</td>\n",
       "      <td>WARRANT ARREST</td>\n",
       "      <td>Wednesday</td>\n",
       "      <td>2016-12-21</td>\n",
       "      <td>18:17</td>\n",
       "      <td>TENDERLOIN</td>\n",
       "      <td>ARREST, BOOKED</td>\n",
       "      <td>300 Block of JONES ST</td>\n",
       "      <td>-122.412759</td>\n",
       "      <td>37.784400</td>\n",
       "      <td>(37.7843997500192, -122.412758846145)</td>\n",
       "      <td>1.502730e+13</td>\n",
       "    </tr>\n",
       "    <tr>\n",
       "      <th>116</th>\n",
       "      <td>150480366.0</td>\n",
       "      <td>DRUNKENNESS</td>\n",
       "      <td>UNDER INFLUENCE OF ALCOHOL IN A PUBLIC PLACE</td>\n",
       "      <td>Thursday</td>\n",
       "      <td>2016-12-08</td>\n",
       "      <td>15:00</td>\n",
       "      <td>NORTHERN</td>\n",
       "      <td>ARREST, BOOKED</td>\n",
       "      <td>PINE ST / POLK ST</td>\n",
       "      <td>-122.420497</td>\n",
       "      <td>37.789619</td>\n",
       "      <td>(37.789618819255, -122.42049728879)</td>\n",
       "      <td>1.504800e+13</td>\n",
       "    </tr>\n",
       "    <tr>\n",
       "      <th>117</th>\n",
       "      <td>150480366.0</td>\n",
       "      <td>VANDALISM</td>\n",
       "      <td>MALICIOUS MISCHIEF, VANDALISM</td>\n",
       "      <td>Thursday</td>\n",
       "      <td>2016-12-08</td>\n",
       "      <td>15:00</td>\n",
       "      <td>NORTHERN</td>\n",
       "      <td>ARREST, BOOKED</td>\n",
       "      <td>PINE ST / POLK ST</td>\n",
       "      <td>-122.420497</td>\n",
       "      <td>37.789619</td>\n",
       "      <td>(37.789618819255, -122.42049728879)</td>\n",
       "      <td>1.504800e+13</td>\n",
       "    </tr>\n",
       "    <tr>\n",
       "      <th>118</th>\n",
       "      <td>150480366.0</td>\n",
       "      <td>VANDALISM</td>\n",
       "      <td>MALICIOUS MISCHIEF, VANDALISM OF VEHICLES</td>\n",
       "      <td>Thursday</td>\n",
       "      <td>2016-12-08</td>\n",
       "      <td>15:00</td>\n",
       "      <td>NORTHERN</td>\n",
       "      <td>ARREST, BOOKED</td>\n",
       "      <td>PINE ST / POLK ST</td>\n",
       "      <td>-122.420497</td>\n",
       "      <td>37.789619</td>\n",
       "      <td>(37.789618819255, -122.42049728879)</td>\n",
       "      <td>1.504800e+13</td>\n",
       "    </tr>\n",
       "    <tr>\n",
       "      <th>115</th>\n",
       "      <td>150480366.0</td>\n",
       "      <td>VEHICLE THEFT</td>\n",
       "      <td>STOLEN AND RECOVERED VEHICLE</td>\n",
       "      <td>Thursday</td>\n",
       "      <td>2016-12-08</td>\n",
       "      <td>15:00</td>\n",
       "      <td>NORTHERN</td>\n",
       "      <td>ARREST, BOOKED</td>\n",
       "      <td>PINE ST / POLK ST</td>\n",
       "      <td>-122.420497</td>\n",
       "      <td>37.789619</td>\n",
       "      <td>(37.789618819255, -122.42049728879)</td>\n",
       "      <td>1.504800e+13</td>\n",
       "    </tr>\n",
       "    <tr>\n",
       "      <th>...</th>\n",
       "      <td>...</td>\n",
       "      <td>...</td>\n",
       "      <td>...</td>\n",
       "      <td>...</td>\n",
       "      <td>...</td>\n",
       "      <td>...</td>\n",
       "      <td>...</td>\n",
       "      <td>...</td>\n",
       "      <td>...</td>\n",
       "      <td>...</td>\n",
       "      <td>...</td>\n",
       "      <td>...</td>\n",
       "      <td>...</td>\n",
       "    </tr>\n",
       "    <tr>\n",
       "      <th>144</th>\n",
       "      <td>160000471.0</td>\n",
       "      <td>OTHER OFFENSES</td>\n",
       "      <td>CONSPIRACY</td>\n",
       "      <td>Friday</td>\n",
       "      <td>2016-01-01</td>\n",
       "      <td>02:04</td>\n",
       "      <td>TENDERLOIN</td>\n",
       "      <td>ARREST, BOOKED</td>\n",
       "      <td>100 Block of TAYLOR ST</td>\n",
       "      <td>-122.410792</td>\n",
       "      <td>37.783695</td>\n",
       "      <td>(37.7836952269749, -122.410791677645)</td>\n",
       "      <td>1.600000e+13</td>\n",
       "    </tr>\n",
       "    <tr>\n",
       "      <th>143</th>\n",
       "      <td>160000471.0</td>\n",
       "      <td>WEAPON LAWS</td>\n",
       "      <td>POSS OF PROHIBITED WEAPON</td>\n",
       "      <td>Friday</td>\n",
       "      <td>2016-01-01</td>\n",
       "      <td>02:04</td>\n",
       "      <td>TENDERLOIN</td>\n",
       "      <td>ARREST, BOOKED</td>\n",
       "      <td>100 Block of TAYLOR ST</td>\n",
       "      <td>-122.410792</td>\n",
       "      <td>37.783695</td>\n",
       "      <td>(37.7836952269749, -122.410791677645)</td>\n",
       "      <td>1.600000e+13</td>\n",
       "    </tr>\n",
       "    <tr>\n",
       "      <th>132</th>\n",
       "      <td>160000211.0</td>\n",
       "      <td>OTHER OFFENSES</td>\n",
       "      <td>INTERFERRING WITH A POLICE OFFICER</td>\n",
       "      <td>Friday</td>\n",
       "      <td>2016-01-01</td>\n",
       "      <td>00:50</td>\n",
       "      <td>SOUTHERN</td>\n",
       "      <td>ARREST, BOOKED</td>\n",
       "      <td>MARKET ST / BEALE ST</td>\n",
       "      <td>-122.397388</td>\n",
       "      <td>37.792405</td>\n",
       "      <td>(37.7924047319625, -122.397387796127)</td>\n",
       "      <td>1.600000e+13</td>\n",
       "    </tr>\n",
       "    <tr>\n",
       "      <th>2796</th>\n",
       "      <td>151123444.0</td>\n",
       "      <td>FORGERY/COUNTERFEITING</td>\n",
       "      <td>FINANCIAL STATEMENTS, FALSE</td>\n",
       "      <td>Friday</td>\n",
       "      <td>2016-01-01</td>\n",
       "      <td>00:01</td>\n",
       "      <td>CENTRAL</td>\n",
       "      <td>UNFOUNDED</td>\n",
       "      <td>600 Block of GEARY ST</td>\n",
       "      <td>-122.414011</td>\n",
       "      <td>37.786677</td>\n",
       "      <td>(37.7866770011071, -122.414010814727)</td>\n",
       "      <td>1.511230e+13</td>\n",
       "    </tr>\n",
       "    <tr>\n",
       "      <th>2797</th>\n",
       "      <td>151123444.0</td>\n",
       "      <td>NON-CRIMINAL</td>\n",
       "      <td>CASE CLOSURE</td>\n",
       "      <td>Friday</td>\n",
       "      <td>2016-01-01</td>\n",
       "      <td>00:01</td>\n",
       "      <td>CENTRAL</td>\n",
       "      <td>UNFOUNDED</td>\n",
       "      <td>600 Block of GEARY ST</td>\n",
       "      <td>-122.414011</td>\n",
       "      <td>37.786677</td>\n",
       "      <td>(37.7866770011071, -122.414010814727)</td>\n",
       "      <td>1.511230e+13</td>\n",
       "    </tr>\n",
       "  </tbody>\n",
       "</table>\n",
       "<p>10019 rows × 13 columns</p>\n",
       "</div>"
      ],
      "text/plain": [
       "       IncidntNum                Category  \\\n",
       "2467  150273337.0                WARRANTS   \n",
       "116   150480366.0             DRUNKENNESS   \n",
       "117   150480366.0               VANDALISM   \n",
       "118   150480366.0               VANDALISM   \n",
       "115   150480366.0           VEHICLE THEFT   \n",
       "...           ...                     ...   \n",
       "144   160000471.0          OTHER OFFENSES   \n",
       "143   160000471.0             WEAPON LAWS   \n",
       "132   160000211.0          OTHER OFFENSES   \n",
       "2796  151123444.0  FORGERY/COUNTERFEITING   \n",
       "2797  151123444.0            NON-CRIMINAL   \n",
       "\n",
       "                                          Descript  DayOfWeek       Date  \\\n",
       "2467                                WARRANT ARREST  Wednesday 2016-12-21   \n",
       "116   UNDER INFLUENCE OF ALCOHOL IN A PUBLIC PLACE   Thursday 2016-12-08   \n",
       "117                  MALICIOUS MISCHIEF, VANDALISM   Thursday 2016-12-08   \n",
       "118      MALICIOUS MISCHIEF, VANDALISM OF VEHICLES   Thursday 2016-12-08   \n",
       "115                   STOLEN AND RECOVERED VEHICLE   Thursday 2016-12-08   \n",
       "...                                            ...        ...        ...   \n",
       "144                                     CONSPIRACY     Friday 2016-01-01   \n",
       "143                      POSS OF PROHIBITED WEAPON     Friday 2016-01-01   \n",
       "132             INTERFERRING WITH A POLICE OFFICER     Friday 2016-01-01   \n",
       "2796                   FINANCIAL STATEMENTS, FALSE     Friday 2016-01-01   \n",
       "2797                                  CASE CLOSURE     Friday 2016-01-01   \n",
       "\n",
       "       Time  PdDistrict      Resolution                 Address           X  \\\n",
       "2467  18:17  TENDERLOIN  ARREST, BOOKED   300 Block of JONES ST -122.412759   \n",
       "116   15:00    NORTHERN  ARREST, BOOKED       PINE ST / POLK ST -122.420497   \n",
       "117   15:00    NORTHERN  ARREST, BOOKED       PINE ST / POLK ST -122.420497   \n",
       "118   15:00    NORTHERN  ARREST, BOOKED       PINE ST / POLK ST -122.420497   \n",
       "115   15:00    NORTHERN  ARREST, BOOKED       PINE ST / POLK ST -122.420497   \n",
       "...     ...         ...             ...                     ...         ...   \n",
       "144   02:04  TENDERLOIN  ARREST, BOOKED  100 Block of TAYLOR ST -122.410792   \n",
       "143   02:04  TENDERLOIN  ARREST, BOOKED  100 Block of TAYLOR ST -122.410792   \n",
       "132   00:50    SOUTHERN  ARREST, BOOKED    MARKET ST / BEALE ST -122.397388   \n",
       "2796  00:01     CENTRAL       UNFOUNDED   600 Block of GEARY ST -122.414011   \n",
       "2797  00:01     CENTRAL       UNFOUNDED   600 Block of GEARY ST -122.414011   \n",
       "\n",
       "              Y                               Location          PdId  \n",
       "2467  37.784400  (37.7843997500192, -122.412758846145)  1.502730e+13  \n",
       "116   37.789619    (37.789618819255, -122.42049728879)  1.504800e+13  \n",
       "117   37.789619    (37.789618819255, -122.42049728879)  1.504800e+13  \n",
       "118   37.789619    (37.789618819255, -122.42049728879)  1.504800e+13  \n",
       "115   37.789619    (37.789618819255, -122.42049728879)  1.504800e+13  \n",
       "...         ...                                    ...           ...  \n",
       "144   37.783695  (37.7836952269749, -122.410791677645)  1.600000e+13  \n",
       "143   37.783695  (37.7836952269749, -122.410791677645)  1.600000e+13  \n",
       "132   37.792405  (37.7924047319625, -122.397387796127)  1.600000e+13  \n",
       "2796  37.786677  (37.7866770011071, -122.414010814727)  1.511230e+13  \n",
       "2797  37.786677  (37.7866770011071, -122.414010814727)  1.511230e+13  \n",
       "\n",
       "[10019 rows x 13 columns]"
      ]
     },
     "execution_count": 48,
     "metadata": {},
     "output_type": "execute_result"
    }
   ],
   "source": [
    "df"
   ]
  }
 ],
 "metadata": {
  "kernelspec": {
   "display_name": "Python 3.9.12 ('base')",
   "language": "python",
   "name": "python3"
  },
  "language_info": {
   "codemirror_mode": {
    "name": "ipython",
    "version": 3
   },
   "file_extension": ".py",
   "mimetype": "text/x-python",
   "name": "python",
   "nbconvert_exporter": "python",
   "pygments_lexer": "ipython3",
   "version": "3.9.12"
  },
  "orig_nbformat": 4,
  "vscode": {
   "interpreter": {
    "hash": "885ae74ae6c8f10ded02f217c7ef67f5ab5deb9c2f4370f18eaf8bb449e33dec"
   }
  }
 },
 "nbformat": 4,
 "nbformat_minor": 2
}
