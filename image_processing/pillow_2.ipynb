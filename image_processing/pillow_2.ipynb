{
 "cells": [
  {
   "cell_type": "code",
   "execution_count": 1,
   "metadata": {},
   "outputs": [],
   "source": [
    "from PIL import Image, ImageDraw, ImageFont, ImageFilter, ImageEnhance"
   ]
  },
  {
   "cell_type": "code",
   "execution_count": 5,
   "metadata": {},
   "outputs": [],
   "source": [
    "im1 = Image.open('image.jpg')\n",
    "im2 = Image.open('image2.jpg')"
   ]
  },
  {
   "cell_type": "code",
   "execution_count": 8,
   "metadata": {},
   "outputs": [
    {
     "data": {
      "image/png": "[encoded data removed]",
      "text/plain": [
       "<PIL.Image.Image image mode=RGB size=300x300>"
      ]
     },
     "execution_count": 8,
     "metadata": {},
     "output_type": "execute_result"
    }
   ],
   "source": [
    "im5 = Image.new('RGB', (300,300), (155,0,255))\n",
    "im5"
   ]
  },
  {
   "cell_type": "code",
   "execution_count": 12,
   "metadata": {},
   "outputs": [],
   "source": [
    "im55 = im5.copy()\n",
    "fnt = ImageFont.truetype('font.TTF', 40)\n",
    "d = ImageDraw.Draw(im55)\n",
    "\n",
    "d.text((10, 10), \"YOU CAN'T\", font=fnt, fill=(100,100,100))\n",
    "d.text((10, 10+40), \"SEE ME\", font=fnt, fill=(100,100,100))\n",
    "im55.show()"
   ]
  },
  {
   "cell_type": "code",
   "execution_count": 14,
   "metadata": {},
   "outputs": [],
   "source": [
    "d.text((10, 10+80), \"HAPPY NEW YEAR\", font=fnt, fill=(100,100,100))\n",
    "im55.show()"
   ]
  },
  {
   "cell_type": "code",
   "execution_count": 17,
   "metadata": {},
   "outputs": [],
   "source": [
    "im11 = im5.copy()\n",
    "d = ImageDraw.Draw(im11)\n",
    "\n",
    "d.ellipse((100,100,200,200), fill=(255,0,0))\n",
    "d.ellipse((120,120,180,180), fill=(0,255,0))\n",
    "im11.show()"
   ]
  },
  {
   "cell_type": "code",
   "execution_count": 20,
   "metadata": {},
   "outputs": [],
   "source": [
    "im33 = im5.copy()\n",
    "d = ImageDraw.Draw(im33)\n",
    "\n",
    "d.rectangle((0,0, im33.width, 100), fill=(0,0,0))\n",
    "d.rectangle((0, im33.height - 100, im33.width, im33.height), fill=(0,0,0))\n",
    "fnt = ImageFont.truetype('font.TTF', 40)\n",
    "d.text((im33.width / 2-100, 30), \"Happy Near\", font=fnt, fill= (255,255,255), align='center')\n",
    "d.text((im33.width / 2-100, im33.height- 70), \"Year 2023\", font=fnt, fill= (255,255,255), align='center')\n",
    "im33.show()"
   ]
  },
  {
   "cell_type": "code",
   "execution_count": null,
   "metadata": {},
   "outputs": [],
   "source": []
  }
 ],
 "metadata": {
  "kernelspec": {
   "display_name": "Python 3.9.12 ('base')",
   "language": "python",
   "name": "python3"
  },
  "language_info": {
   "codemirror_mode": {
    "name": "ipython",
    "version": 3
   },
   "file_extension": ".py",
   "mimetype": "text/x-python",
   "name": "python",
   "nbconvert_exporter": "python",
   "pygments_lexer": "ipython3",
   "version": "3.9.12"
  },
  "orig_nbformat": 4,
  "vscode": {
   "interpreter": {
    "hash": "885ae74ae6c8f10ded02f217c7ef67f5ab5deb9c2f4370f18eaf8bb449e33dec"
   }
  }
 },
 "nbformat": 4,
 "nbformat_minor": 2
}
