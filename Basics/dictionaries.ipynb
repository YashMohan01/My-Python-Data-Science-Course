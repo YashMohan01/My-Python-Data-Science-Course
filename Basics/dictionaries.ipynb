{
 "cells": [
  {
   "cell_type": "code",
   "execution_count": 1,
   "metadata": {},
   "outputs": [],
   "source": [
    "emp = ['Amar', 'deep', 'finance', 2300, 10000, 30000, 31, True, False, 'Acme']"
   ]
  },
  {
   "cell_type": "code",
   "execution_count": 2,
   "metadata": {},
   "outputs": [],
   "source": [
    "emp_dict = {'fname':'Amar',\n",
    "            'lmame':'Deep',\n",
    "            'dept':'finance',\n",
    "            'age':\"31\",\n",
    "            'salary':'10000',\n",
    "            'bonus':'30000',\n",
    "            'is_manager':'True',\n",
    "            'is_executive':'False',\n",
    "            'company':'Acme'}"
   ]
  },
  {
   "cell_type": "code",
   "execution_count": 3,
   "metadata": {},
   "outputs": [
    {
     "name": "stdout",
     "output_type": "stream",
     "text": [
      "{'fname': 'Amar', 'lmame': 'Deep', 'dept': 'finance', 'age': '31', 'salary': '10000', 'bonus': '30000', 'is_manager': 'True', 'is_executive': 'False', 'company': 'Acme'}\n"
     ]
    }
   ],
   "source": [
    "print(emp_dict)"
   ]
  },
  {
   "cell_type": "code",
   "execution_count": 4,
   "metadata": {},
   "outputs": [
    {
     "data": {
      "text/plain": [
       "['fname',\n",
       " 'lmame',\n",
       " 'dept',\n",
       " 'age',\n",
       " 'salary',\n",
       " 'bonus',\n",
       " 'is_manager',\n",
       " 'is_executive',\n",
       " 'company']"
      ]
     },
     "execution_count": 4,
     "metadata": {},
     "output_type": "execute_result"
    }
   ],
   "source": [
    "list(emp_dict.keys())"
   ]
  },
  {
   "cell_type": "code",
   "execution_count": 5,
   "metadata": {},
   "outputs": [
    {
     "data": {
      "text/plain": [
       "'finance'"
      ]
     },
     "execution_count": 5,
     "metadata": {},
     "output_type": "execute_result"
    }
   ],
   "source": [
    "emp_dict['dept']"
   ]
  },
  {
   "cell_type": "code",
   "execution_count": 6,
   "metadata": {},
   "outputs": [
    {
     "data": {
      "text/plain": [
       "'finance'"
      ]
     },
     "execution_count": 6,
     "metadata": {},
     "output_type": "execute_result"
    }
   ],
   "source": [
    "emp_dict.get('dept')"
   ]
  },
  {
   "cell_type": "code",
   "execution_count": 7,
   "metadata": {},
   "outputs": [
    {
     "data": {
      "text/plain": [
       "'not found'"
      ]
     },
     "execution_count": 7,
     "metadata": {},
     "output_type": "execute_result"
    }
   ],
   "source": [
    "emp_dict.get('Location','not found')"
   ]
  },
  {
   "cell_type": "markdown",
   "metadata": {},
   "source": [
    "# looping over a dictionary"
   ]
  },
  {
   "cell_type": "code",
   "execution_count": 8,
   "metadata": {},
   "outputs": [
    {
     "name": "stdout",
     "output_type": "stream",
     "text": [
      "fname => Amar\n",
      "lmame => Deep\n",
      "dept => finance\n",
      "age => 31\n",
      "salary => 10000\n",
      "bonus => 30000\n",
      "is_manager => True\n",
      "is_executive => False\n",
      "company => Acme\n"
     ]
    }
   ],
   "source": [
    "for k in emp_dict:\n",
    "    print(k,\"=>\",emp_dict[k])"
   ]
  },
  {
   "cell_type": "code",
   "execution_count": 9,
   "metadata": {},
   "outputs": [
    {
     "name": "stdout",
     "output_type": "stream",
     "text": [
      "fname => Amar\n",
      "lmame => Deep\n",
      "dept => finance\n",
      "age => 31\n",
      "salary => 10000\n",
      "bonus => 30000\n",
      "is_manager => True\n",
      "is_executive => False\n",
      "company => Acme\n"
     ]
    }
   ],
   "source": [
    "# looping over a dictionary using items()\n",
    "for k,v in emp_dict.items():\n",
    "    print(k,\"=>\",v)"
   ]
  },
  {
   "cell_type": "code",
   "execution_count": 10,
   "metadata": {},
   "outputs": [],
   "source": [
    "# updation an entry in dictionary\n",
    "emp_dict['age'] = 35"
   ]
  },
  {
   "cell_type": "code",
   "execution_count": 11,
   "metadata": {},
   "outputs": [
    {
     "data": {
      "text/plain": [
       "{'fname': 'Amar',\n",
       " 'lmame': 'Deep',\n",
       " 'dept': 'finance',\n",
       " 'age': 35,\n",
       " 'salary': '10000',\n",
       " 'bonus': '30000',\n",
       " 'is_manager': 'True',\n",
       " 'is_executive': 'False',\n",
       " 'company': 'Acme'}"
      ]
     },
     "execution_count": 11,
     "metadata": {},
     "output_type": "execute_result"
    }
   ],
   "source": [
    "emp_dict"
   ]
  },
  {
   "cell_type": "markdown",
   "metadata": {},
   "source": [
    "# Adding data\n"
   ]
  },
  {
   "cell_type": "code",
   "execution_count": 12,
   "metadata": {},
   "outputs": [
    {
     "name": "stdout",
     "output_type": "stream",
     "text": [
      "{'fname': 'Amar', 'lmame': 'Deep', 'dept': 'finance', 'age': 35, 'salary': '10000', 'bonus': '30000', 'is_manager': 'True', 'is_executive': 'False', 'company': 'Acme', 'designation': 'Asst A'}\n"
     ]
    }
   ],
   "source": [
    "emp_dict['designation'] = 'Asst A'\n",
    "print(emp_dict)"
   ]
  },
  {
   "cell_type": "markdown",
   "metadata": {},
   "source": [
    "# Updating data"
   ]
  },
  {
   "cell_type": "code",
   "execution_count": 13,
   "metadata": {},
   "outputs": [
    {
     "name": "stdout",
     "output_type": "stream",
     "text": [
      "{'fname': 'Amar', 'lmame': 'Deep', 'dept': 'finance', 'age': 35, 'salary': 30000, 'bonus': '30000', 'is_manager': 'True', 'is_executive': 'False', 'company': 'Acme', 'designation': 'Section Manager'}\n"
     ]
    }
   ],
   "source": [
    "emp_dict['designation'] = 'Section Manager'\n",
    "emp_dict['salary'] = 30000\n",
    "print(emp_dict)"
   ]
  },
  {
   "cell_type": "markdown",
   "metadata": {},
   "source": [
    "# Removing data"
   ]
  },
  {
   "cell_type": "code",
   "execution_count": 14,
   "metadata": {},
   "outputs": [
    {
     "data": {
      "text/plain": [
       "30000"
      ]
     },
     "execution_count": 14,
     "metadata": {},
     "output_type": "execute_result"
    }
   ],
   "source": [
    "emp_dict.pop('salary')"
   ]
  },
  {
   "cell_type": "code",
   "execution_count": 15,
   "metadata": {},
   "outputs": [],
   "source": [
    "if 'salary' in emp_dict:\n",
    "    emp_dict.pop('salary')"
   ]
  },
  {
   "cell_type": "code",
   "execution_count": 16,
   "metadata": {},
   "outputs": [
    {
     "data": {
      "text/plain": [
       "{'fname': 'Amar',\n",
       " 'lmame': 'Deep',\n",
       " 'dept': 'finance',\n",
       " 'age': 35,\n",
       " 'bonus': '30000',\n",
       " 'is_manager': 'True',\n",
       " 'is_executive': 'False',\n",
       " 'company': 'Acme',\n",
       " 'designation': 'Section Manager'}"
      ]
     },
     "execution_count": 16,
     "metadata": {},
     "output_type": "execute_result"
    }
   ],
   "source": [
    "emp_dict"
   ]
  },
  {
   "cell_type": "code",
   "execution_count": 17,
   "metadata": {},
   "outputs": [],
   "source": [
    "reports = {\n",
    "    '001': {\n",
    "        'Name' : 'Amar',\n",
    "        'Subjects' : {'English' : 80, 'Maths' : 90 , 'Science' : 95}\n",
    "    },\n",
    "    '002': {\n",
    "        'Name' : 'Vijay',\n",
    "        'Subjects' : {'English' : 70, 'Maths' : 60 , 'Science' : 85}\n",
    "    },\n",
    "    '003': {\n",
    "        'Name' : 'Raj',\n",
    "        'Subjects' : {'English' : 60, 'Maths' : 50 , 'Science' : 45}\n",
    "    },\n",
    "}"
   ]
  },
  {
   "cell_type": "code",
   "execution_count": 18,
   "metadata": {},
   "outputs": [
    {
     "name": "stdout",
     "output_type": "stream",
     "text": [
      "Roll No. 001\n",
      "Name Amar\n",
      "Subjects\n",
      "English 80\n",
      "Maths 90\n",
      "Science 95\n",
      "Total: 265/300\n",
      "Percentage : 88.33% \n",
      "--------------------\n",
      "Roll No. 002\n",
      "Name Vijay\n",
      "Subjects\n",
      "English 70\n",
      "Maths 60\n",
      "Science 85\n",
      "Total: 215/300\n",
      "Percentage : 71.67% \n",
      "--------------------\n",
      "Roll No. 003\n",
      "Name Raj\n",
      "Subjects\n",
      "English 60\n",
      "Maths 50\n",
      "Science 45\n",
      "Total: 155/300\n",
      "Percentage : 51.67% \n",
      "--------------------\n"
     ]
    }
   ],
   "source": [
    "for roll, data in reports.items():\n",
    "    print(\"Roll No.\",roll)\n",
    "    for key, val in data.items():\n",
    "        if isinstance(val, dict):\n",
    "            print(key)\n",
    "            total = 0\n",
    "            percentage = 0\n",
    "            for sub, marks in val.items():\n",
    "                print(sub,marks)\n",
    "                total += marks\n",
    "                percentage = (total/3)\n",
    "            print(f'Total: {total}/300')\n",
    "            print(f'Percentage : {percentage:.2f}% ')\n",
    "        else:\n",
    "            print(key, val)\n",
    "    print(\"--\"*10)"
   ]
  },
  {
   "cell_type": "markdown",
   "metadata": {},
   "source": [
    "# File Handling\n",
    "- open a file\n",
    "- reading a file\n",
    "- writing a file \n",
    "- appending a file"
   ]
  },
  {
   "cell_type": "code",
   "execution_count": 19,
   "metadata": {},
   "outputs": [
    {
     "name": "stdout",
     "output_type": "stream",
     "text": [
      "print('Hi there')\n",
      "0 characters\n"
     ]
    }
   ],
   "source": [
    "f = open('hello.py')\n",
    "print(f.read())\n",
    "content = f.read()\n",
    "print(f'{len(content)} characters')"
   ]
  },
  {
   "cell_type": "code",
   "execution_count": 20,
   "metadata": {},
   "outputs": [],
   "source": [
    "data = 'Hi! Everyone, this is a sample file'\n",
    "with open(\"mydata.txt\", 'w') as file:\n",
    "    file.write(data)"
   ]
  },
  {
   "cell_type": "code",
   "execution_count": 21,
   "metadata": {},
   "outputs": [],
   "source": [
    "data = '\\nthis is a new sample of data'\n",
    "with open(\"mydata.txt\", 'a') as file:\n",
    "    file.write(data)"
   ]
  },
  {
   "cell_type": "code",
   "execution_count": 22,
   "metadata": {},
   "outputs": [
    {
     "name": "stdout",
     "output_type": "stream",
     "text": [
      "File bio.txt saved\n"
     ]
    }
   ],
   "source": [
    "file = 'bio.txt'\n",
    "content = ''\n",
    "while True:\n",
    "    line = input('Enter a line(0r q to quit):')\n",
    "    if line == 'q':\n",
    "        break\n",
    "    content += line + '\\n'\n",
    "\n",
    "with open (file, 'w') as f:\n",
    "    f.write(content)\n",
    "    print(f'File {file} saved')"
   ]
  },
  {
   "cell_type": "code",
   "execution_count": null,
   "metadata": {},
   "outputs": [],
   "source": [
    "\n"
   ]
  }
 ],
 "metadata": {
  "kernelspec": {
   "display_name": "Python 3.9.12 ('base')",
   "language": "python",
   "name": "python3"
  },
  "language_info": {
   "codemirror_mode": {
    "name": "ipython",
    "version": 3
   },
   "file_extension": ".py",
   "mimetype": "text/x-python",
   "name": "python",
   "nbconvert_exporter": "python",
   "pygments_lexer": "ipython3",
   "version": "3.9.12"
  },
  "orig_nbformat": 4,
  "vscode": {
   "interpreter": {
    "hash": "885ae74ae6c8f10ded02f217c7ef67f5ab5deb9c2f4370f18eaf8bb449e33dec"
   }
  }
 },
 "nbformat": 4,
 "nbformat_minor": 2
}
